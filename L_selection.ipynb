{
 "cells": [
  {
   "cell_type": "code",
   "execution_count": 1,
   "metadata": {},
   "outputs": [],
   "source": [
    "import pandas as pd\n",
    "import numpy as np\n",
    "import matplotlib.pyplot as plt\n",
    "import os\n",
    "import glob\n",
    "import scipy as sps\n",
    "from scipy import stats\n",
    "import matplotlib.gridspec as gridspec\n",
    "from matplotlib.lines import Line2D\n",
    "from scipy.stats import norm\n",
    "import matplotlib.mlab as mlab\n",
    "import scipy"
   ]
  },
  {
   "cell_type": "code",
   "execution_count": 75,
   "metadata": {},
   "outputs": [],
   "source": [
    "df_list = [] \n",
    "a = ''\n",
    "for file in os.listdir('dados/l_selecao/'): \n",
    "    if (('.~lock' in file)==False):\n",
    "        if ('casa' in file):\n",
    "            df = pd.read_csv('Resultados_casa_611/C_sele/v_1/'+file).rename(columns = {'key_resp_11.rt':'A.rt', \\\n",
    "                                                                                'key_resp_12.rt' : 'B.rt', \\\n",
    "                                                                                'key_resp_13.rt':'C.rt', \\\n",
    "                                                                                'key_resp_15.keys': 'resposta', \\\n",
    "                                                                                'key_resp_15.rt':'quest.rt'}).iloc[12:-2, :]\n",
    "            \n",
    "            df_list.append(df) \n",
    "           \n",
    "        else:\n",
    "             df = pd.read_csv('dados/l_selecao/'+file).rename(columns = {'key_resp_11.rt':'A.rt', \\\n",
    "                                                                                'key_resp_12.rt' : 'B.rt', \\\n",
    "                                                                                'key_resp_13.rt':'C.rt', \\\n",
    "                                                                                'key_resp_15.keys': 'resposta', \\\n",
    "                                                                                'key_resp_15.rt':'quest.rt'}).iloc[4:-1, :]\n",
    "          \n",
    "             df_list.append(df) \n",
    "#final_df = df.append(df for df in df_list) \n",
    "#final_df.to_csv('final.csv', index=False) "
   ]
  },
  {
   "cell_type": "code",
   "execution_count": 88,
   "metadata": {},
   "outputs": [],
   "source": [
    "dfs_foco = pd.read_csv('preprocessed_l.csv')"
   ]
  },
  {
   "cell_type": "code",
   "execution_count": 89,
   "metadata": {},
   "outputs": [
    {
     "name": "stderr",
     "output_type": "stream",
     "text": [
      "<ipython-input-89-e7bb7238e470>:1: FutureWarning: Your version of xlrd is 1.2.0. In xlrd >= 2.0, only the xls format is supported. As a result, the openpyxl engine will be used if it is installed and the engine argument is not specified. Install openpyxl instead.\n",
      "  condicoes = pd.read_excel('Condicoes.xlsx')\n"
     ]
    }
   ],
   "source": [
    "condicoes = pd.read_excel('Condicoes.xlsx')\n",
    "condicoes['frase'] = ['L_'+str(i) for i in range(1,145)]"
   ]
  },
  {
   "cell_type": "code",
   "execution_count": 90,
   "metadata": {},
   "outputs": [
    {
     "data": {
      "text/html": [
       "<div>\n",
       "<style scoped>\n",
       "    .dataframe tbody tr th:only-of-type {\n",
       "        vertical-align: middle;\n",
       "    }\n",
       "\n",
       "    .dataframe tbody tr th {\n",
       "        vertical-align: top;\n",
       "    }\n",
       "\n",
       "    .dataframe thead th {\n",
       "        text-align: right;\n",
       "    }\n",
       "</style>\n",
       "<table border=\"1\" class=\"dataframe\">\n",
       "  <thead>\n",
       "    <tr style=\"text-align: right;\">\n",
       "      <th></th>\n",
       "      <th>condicoes</th>\n",
       "      <th>frase</th>\n",
       "    </tr>\n",
       "  </thead>\n",
       "  <tbody>\n",
       "    <tr>\n",
       "      <th>0</th>\n",
       "      <td>S_CE</td>\n",
       "      <td>L_1</td>\n",
       "    </tr>\n",
       "    <tr>\n",
       "      <th>1</th>\n",
       "      <td>S_EC</td>\n",
       "      <td>L_2</td>\n",
       "    </tr>\n",
       "    <tr>\n",
       "      <th>2</th>\n",
       "      <td>A_CE</td>\n",
       "      <td>L_3</td>\n",
       "    </tr>\n",
       "    <tr>\n",
       "      <th>3</th>\n",
       "      <td>A_EC</td>\n",
       "      <td>L_4</td>\n",
       "    </tr>\n",
       "    <tr>\n",
       "      <th>4</th>\n",
       "      <td>C</td>\n",
       "      <td>L_5</td>\n",
       "    </tr>\n",
       "    <tr>\n",
       "      <th>...</th>\n",
       "      <td>...</td>\n",
       "      <td>...</td>\n",
       "    </tr>\n",
       "    <tr>\n",
       "      <th>139</th>\n",
       "      <td>S_EC</td>\n",
       "      <td>L_140</td>\n",
       "    </tr>\n",
       "    <tr>\n",
       "      <th>140</th>\n",
       "      <td>A_CE</td>\n",
       "      <td>L_141</td>\n",
       "    </tr>\n",
       "    <tr>\n",
       "      <th>141</th>\n",
       "      <td>A_EC</td>\n",
       "      <td>L_142</td>\n",
       "    </tr>\n",
       "    <tr>\n",
       "      <th>142</th>\n",
       "      <td>C</td>\n",
       "      <td>L_143</td>\n",
       "    </tr>\n",
       "    <tr>\n",
       "      <th>143</th>\n",
       "      <td>E</td>\n",
       "      <td>L_144</td>\n",
       "    </tr>\n",
       "  </tbody>\n",
       "</table>\n",
       "<p>144 rows × 2 columns</p>\n",
       "</div>"
      ],
      "text/plain": [
       "    condicoes  frase\n",
       "0        S_CE    L_1\n",
       "1        S_EC    L_2\n",
       "2        A_CE    L_3\n",
       "3        A_EC    L_4\n",
       "4           C    L_5\n",
       "..        ...    ...\n",
       "139      S_EC  L_140\n",
       "140      A_CE  L_141\n",
       "141      A_EC  L_142\n",
       "142         C  L_143\n",
       "143         E  L_144\n",
       "\n",
       "[144 rows x 2 columns]"
      ]
     },
     "execution_count": 90,
     "metadata": {},
     "output_type": "execute_result"
    }
   ],
   "source": [
    "condicoes"
   ]
  },
  {
   "cell_type": "code",
   "execution_count": 91,
   "metadata": {},
   "outputs": [],
   "source": [
    "dfs = pd.concat([df[['participant', 'soundsA', 'A.rt', 'B.rt', 'C.rt', 'resposta', 'quest.rt']] for df in df_list])"
   ]
  },
  {
   "cell_type": "code",
   "execution_count": 92,
   "metadata": {},
   "outputs": [
    {
     "data": {
      "text/plain": [
       "(2628, 7)"
      ]
     },
     "execution_count": 92,
     "metadata": {},
     "output_type": "execute_result"
    }
   ],
   "source": [
    "dfs.shape"
   ]
  },
  {
   "cell_type": "code",
   "execution_count": 93,
   "metadata": {},
   "outputs": [],
   "source": [
    "def files(soundsA):\n",
    "    return soundsA[soundsA.index('/'):soundsA.index('A')]"
   ]
  },
  {
   "cell_type": "code",
   "execution_count": 94,
   "metadata": {},
   "outputs": [],
   "source": [
    "audio_files = [soundsA[soundsA.index('/')+1:soundsA.index('A')] for soundsA in dfs.soundsA.values]"
   ]
  },
  {
   "cell_type": "code",
   "execution_count": 95,
   "metadata": {},
   "outputs": [],
   "source": [
    "dfs['frase'] = audio_files"
   ]
  },
  {
   "cell_type": "code",
   "execution_count": 96,
   "metadata": {},
   "outputs": [],
   "source": [
    "treino = []\n",
    "for audio in audio_files:\n",
    "    if ('L' in audio):\n",
    "        treino.append('foco')\n",
    "    else:\n",
    "        treino.append('distratora')"
   ]
  },
  {
   "cell_type": "code",
   "execution_count": 97,
   "metadata": {},
   "outputs": [],
   "source": [
    "dfs['foco'] = treino"
   ]
  },
  {
   "cell_type": "code",
   "execution_count": 98,
   "metadata": {},
   "outputs": [
    {
     "data": {
      "text/html": [
       "<div>\n",
       "<style scoped>\n",
       "    .dataframe tbody tr th:only-of-type {\n",
       "        vertical-align: middle;\n",
       "    }\n",
       "\n",
       "    .dataframe tbody tr th {\n",
       "        vertical-align: top;\n",
       "    }\n",
       "\n",
       "    .dataframe thead th {\n",
       "        text-align: right;\n",
       "    }\n",
       "</style>\n",
       "<table border=\"1\" class=\"dataframe\">\n",
       "  <thead>\n",
       "    <tr style=\"text-align: right;\">\n",
       "      <th></th>\n",
       "      <th>participant</th>\n",
       "      <th>soundsA</th>\n",
       "      <th>A.rt</th>\n",
       "      <th>B.rt</th>\n",
       "      <th>C.rt</th>\n",
       "      <th>resposta</th>\n",
       "      <th>quest.rt</th>\n",
       "      <th>frase</th>\n",
       "      <th>foco</th>\n",
       "    </tr>\n",
       "  </thead>\n",
       "  <tbody>\n",
       "    <tr>\n",
       "      <th>4</th>\n",
       "      <td>Leticia_2511</td>\n",
       "      <td>l_selecao_v1_wav/D_7A.wav</td>\n",
       "      <td>1.055590</td>\n",
       "      <td>1.466445</td>\n",
       "      <td>1.402730</td>\n",
       "      <td>s</td>\n",
       "      <td>3.47772</td>\n",
       "      <td>D_7</td>\n",
       "      <td>distratora</td>\n",
       "    </tr>\n",
       "    <tr>\n",
       "      <th>5</th>\n",
       "      <td>Leticia_2511</td>\n",
       "      <td>l_selecao_v1_wav/L_109A.wav</td>\n",
       "      <td>1.079440</td>\n",
       "      <td>1.944030</td>\n",
       "      <td>0.960350</td>\n",
       "      <td>s</td>\n",
       "      <td>1.00380</td>\n",
       "      <td>L_109</td>\n",
       "      <td>foco</td>\n",
       "    </tr>\n",
       "    <tr>\n",
       "      <th>6</th>\n",
       "      <td>Leticia_2511</td>\n",
       "      <td>l_selecao_v1_wav/D_12A.wav</td>\n",
       "      <td>0.551805</td>\n",
       "      <td>2.035360</td>\n",
       "      <td>2.084545</td>\n",
       "      <td>n</td>\n",
       "      <td>0.88687</td>\n",
       "      <td>D_12</td>\n",
       "      <td>distratora</td>\n",
       "    </tr>\n",
       "    <tr>\n",
       "      <th>7</th>\n",
       "      <td>Leticia_2511</td>\n",
       "      <td>l_selecao_v1_wav/S_6A.wav</td>\n",
       "      <td>0.769715</td>\n",
       "      <td>0.985625</td>\n",
       "      <td>0.563105</td>\n",
       "      <td>s</td>\n",
       "      <td>1.23893</td>\n",
       "      <td>S_6</td>\n",
       "      <td>distratora</td>\n",
       "    </tr>\n",
       "    <tr>\n",
       "      <th>8</th>\n",
       "      <td>Leticia_2511</td>\n",
       "      <td>l_selecao_v1_wav/L_94A.wav</td>\n",
       "      <td>0.652570</td>\n",
       "      <td>0.718760</td>\n",
       "      <td>0.758215</td>\n",
       "      <td>s</td>\n",
       "      <td>1.21395</td>\n",
       "      <td>L_94</td>\n",
       "      <td>foco</td>\n",
       "    </tr>\n",
       "  </tbody>\n",
       "</table>\n",
       "</div>"
      ],
      "text/plain": [
       "    participant                      soundsA      A.rt      B.rt      C.rt  \\\n",
       "4  Leticia_2511    l_selecao_v1_wav/D_7A.wav  1.055590  1.466445  1.402730   \n",
       "5  Leticia_2511  l_selecao_v1_wav/L_109A.wav  1.079440  1.944030  0.960350   \n",
       "6  Leticia_2511   l_selecao_v1_wav/D_12A.wav  0.551805  2.035360  2.084545   \n",
       "7  Leticia_2511    l_selecao_v1_wav/S_6A.wav  0.769715  0.985625  0.563105   \n",
       "8  Leticia_2511   l_selecao_v1_wav/L_94A.wav  0.652570  0.718760  0.758215   \n",
       "\n",
       "  resposta  quest.rt  frase        foco  \n",
       "4        s   3.47772    D_7  distratora  \n",
       "5        s   1.00380  L_109        foco  \n",
       "6        n   0.88687   D_12  distratora  \n",
       "7        s   1.23893    S_6  distratora  \n",
       "8        s   1.21395   L_94        foco  "
      ]
     },
     "execution_count": 98,
     "metadata": {},
     "output_type": "execute_result"
    }
   ],
   "source": [
    "dfs.head()"
   ]
  },
  {
   "cell_type": "code",
   "execution_count": 99,
   "metadata": {},
   "outputs": [
    {
     "data": {
      "text/html": [
       "<div>\n",
       "<style scoped>\n",
       "    .dataframe tbody tr th:only-of-type {\n",
       "        vertical-align: middle;\n",
       "    }\n",
       "\n",
       "    .dataframe tbody tr th {\n",
       "        vertical-align: top;\n",
       "    }\n",
       "\n",
       "    .dataframe thead th {\n",
       "        text-align: right;\n",
       "    }\n",
       "</style>\n",
       "<table border=\"1\" class=\"dataframe\">\n",
       "  <thead>\n",
       "    <tr style=\"text-align: right;\">\n",
       "      <th></th>\n",
       "      <th>participant</th>\n",
       "      <th>soundsA</th>\n",
       "      <th>A.rt</th>\n",
       "      <th>B.rt</th>\n",
       "      <th>C.rt</th>\n",
       "      <th>resposta</th>\n",
       "      <th>quest.rt</th>\n",
       "      <th>frase</th>\n",
       "      <th>foco</th>\n",
       "    </tr>\n",
       "  </thead>\n",
       "  <tbody>\n",
       "    <tr>\n",
       "      <th>4</th>\n",
       "      <td>Leticia_2511</td>\n",
       "      <td>l_selecao_v1_wav/D_7A.wav</td>\n",
       "      <td>1.055590</td>\n",
       "      <td>1.466445</td>\n",
       "      <td>1.402730</td>\n",
       "      <td>s</td>\n",
       "      <td>3.47772</td>\n",
       "      <td>D_7</td>\n",
       "      <td>distratora</td>\n",
       "    </tr>\n",
       "    <tr>\n",
       "      <th>5</th>\n",
       "      <td>Leticia_2511</td>\n",
       "      <td>l_selecao_v1_wav/L_109A.wav</td>\n",
       "      <td>1.079440</td>\n",
       "      <td>1.944030</td>\n",
       "      <td>0.960350</td>\n",
       "      <td>s</td>\n",
       "      <td>1.00380</td>\n",
       "      <td>L_109</td>\n",
       "      <td>foco</td>\n",
       "    </tr>\n",
       "    <tr>\n",
       "      <th>6</th>\n",
       "      <td>Leticia_2511</td>\n",
       "      <td>l_selecao_v1_wav/D_12A.wav</td>\n",
       "      <td>0.551805</td>\n",
       "      <td>2.035360</td>\n",
       "      <td>2.084545</td>\n",
       "      <td>n</td>\n",
       "      <td>0.88687</td>\n",
       "      <td>D_12</td>\n",
       "      <td>distratora</td>\n",
       "    </tr>\n",
       "    <tr>\n",
       "      <th>7</th>\n",
       "      <td>Leticia_2511</td>\n",
       "      <td>l_selecao_v1_wav/S_6A.wav</td>\n",
       "      <td>0.769715</td>\n",
       "      <td>0.985625</td>\n",
       "      <td>0.563105</td>\n",
       "      <td>s</td>\n",
       "      <td>1.23893</td>\n",
       "      <td>S_6</td>\n",
       "      <td>distratora</td>\n",
       "    </tr>\n",
       "    <tr>\n",
       "      <th>8</th>\n",
       "      <td>Leticia_2511</td>\n",
       "      <td>l_selecao_v1_wav/L_94A.wav</td>\n",
       "      <td>0.652570</td>\n",
       "      <td>0.718760</td>\n",
       "      <td>0.758215</td>\n",
       "      <td>s</td>\n",
       "      <td>1.21395</td>\n",
       "      <td>L_94</td>\n",
       "      <td>foco</td>\n",
       "    </tr>\n",
       "  </tbody>\n",
       "</table>\n",
       "</div>"
      ],
      "text/plain": [
       "    participant                      soundsA      A.rt      B.rt      C.rt  \\\n",
       "4  Leticia_2511    l_selecao_v1_wav/D_7A.wav  1.055590  1.466445  1.402730   \n",
       "5  Leticia_2511  l_selecao_v1_wav/L_109A.wav  1.079440  1.944030  0.960350   \n",
       "6  Leticia_2511   l_selecao_v1_wav/D_12A.wav  0.551805  2.035360  2.084545   \n",
       "7  Leticia_2511    l_selecao_v1_wav/S_6A.wav  0.769715  0.985625  0.563105   \n",
       "8  Leticia_2511   l_selecao_v1_wav/L_94A.wav  0.652570  0.718760  0.758215   \n",
       "\n",
       "  resposta  quest.rt  frase        foco  \n",
       "4        s   3.47772    D_7  distratora  \n",
       "5        s   1.00380  L_109        foco  \n",
       "6        n   0.88687   D_12  distratora  \n",
       "7        s   1.23893    S_6  distratora  \n",
       "8        s   1.21395   L_94        foco  "
      ]
     },
     "execution_count": 99,
     "metadata": {},
     "output_type": "execute_result"
    }
   ],
   "source": [
    "dfs.head()"
   ]
  },
  {
   "cell_type": "code",
   "execution_count": 100,
   "metadata": {},
   "outputs": [],
   "source": [
    "conds = []\n",
    "for frase in dfs[dfs.foco=='foco'].frase:\n",
    "    conds.append(condicoes[condicoes.frase==frase].condicoes.values[0])"
   ]
  },
  {
   "cell_type": "code",
   "execution_count": 101,
   "metadata": {},
   "outputs": [
    {
     "name": "stderr",
     "output_type": "stream",
     "text": [
      "<ipython-input-101-1e5325cbbdcb>:2: SettingWithCopyWarning: \n",
      "A value is trying to be set on a copy of a slice from a DataFrame.\n",
      "Try using .loc[row_indexer,col_indexer] = value instead\n",
      "\n",
      "See the caveats in the documentation: https://pandas.pydata.org/pandas-docs/stable/user_guide/indexing.html#returning-a-view-versus-a-copy\n",
      "  dfs_foco['condicao'] = conds\n"
     ]
    }
   ],
   "source": [
    "dfs_foco = dfs[dfs.foco=='foco']\n",
    "dfs_foco['condicao'] = conds"
   ]
  },
  {
   "cell_type": "code",
   "execution_count": 102,
   "metadata": {},
   "outputs": [
    {
     "data": {
      "text/html": [
       "<div>\n",
       "<style scoped>\n",
       "    .dataframe tbody tr th:only-of-type {\n",
       "        vertical-align: middle;\n",
       "    }\n",
       "\n",
       "    .dataframe tbody tr th {\n",
       "        vertical-align: top;\n",
       "    }\n",
       "\n",
       "    .dataframe thead th {\n",
       "        text-align: right;\n",
       "    }\n",
       "</style>\n",
       "<table border=\"1\" class=\"dataframe\">\n",
       "  <thead>\n",
       "    <tr style=\"text-align: right;\">\n",
       "      <th></th>\n",
       "      <th>participant</th>\n",
       "      <th>soundsA</th>\n",
       "      <th>A.rt</th>\n",
       "      <th>B.rt</th>\n",
       "      <th>C.rt</th>\n",
       "      <th>resposta</th>\n",
       "      <th>quest.rt</th>\n",
       "      <th>frase</th>\n",
       "      <th>foco</th>\n",
       "      <th>condicao</th>\n",
       "    </tr>\n",
       "  </thead>\n",
       "  <tbody>\n",
       "    <tr>\n",
       "      <th>5</th>\n",
       "      <td>Leticia_2511</td>\n",
       "      <td>l_selecao_v1_wav/L_109A.wav</td>\n",
       "      <td>1.079440</td>\n",
       "      <td>1.944030</td>\n",
       "      <td>0.960350</td>\n",
       "      <td>s</td>\n",
       "      <td>1.003800</td>\n",
       "      <td>L_109</td>\n",
       "      <td>foco</td>\n",
       "      <td>S_CE</td>\n",
       "    </tr>\n",
       "    <tr>\n",
       "      <th>8</th>\n",
       "      <td>Leticia_2511</td>\n",
       "      <td>l_selecao_v1_wav/L_94A.wav</td>\n",
       "      <td>0.652570</td>\n",
       "      <td>0.718760</td>\n",
       "      <td>0.758215</td>\n",
       "      <td>s</td>\n",
       "      <td>1.213950</td>\n",
       "      <td>L_94</td>\n",
       "      <td>foco</td>\n",
       "      <td>A_EC</td>\n",
       "    </tr>\n",
       "    <tr>\n",
       "      <th>10</th>\n",
       "      <td>Leticia_2511</td>\n",
       "      <td>l_selecao_v1_wav/L_49A.wav</td>\n",
       "      <td>1.128935</td>\n",
       "      <td>0.409260</td>\n",
       "      <td>0.683385</td>\n",
       "      <td>s</td>\n",
       "      <td>0.772675</td>\n",
       "      <td>L_49</td>\n",
       "      <td>foco</td>\n",
       "      <td>S_CE</td>\n",
       "    </tr>\n",
       "    <tr>\n",
       "      <th>12</th>\n",
       "      <td>Leticia_2511</td>\n",
       "      <td>l_selecao_v1_wav/L_77A.wav</td>\n",
       "      <td>0.722540</td>\n",
       "      <td>0.433905</td>\n",
       "      <td>0.443615</td>\n",
       "      <td>s</td>\n",
       "      <td>0.802755</td>\n",
       "      <td>L_77</td>\n",
       "      <td>foco</td>\n",
       "      <td>C</td>\n",
       "    </tr>\n",
       "    <tr>\n",
       "      <th>13</th>\n",
       "      <td>Leticia_2511</td>\n",
       "      <td>l_selecao_v1_wav/L_29A.wav</td>\n",
       "      <td>0.922965</td>\n",
       "      <td>0.653115</td>\n",
       "      <td>0.778515</td>\n",
       "      <td>s</td>\n",
       "      <td>1.233390</td>\n",
       "      <td>L_29</td>\n",
       "      <td>foco</td>\n",
       "      <td>C</td>\n",
       "    </tr>\n",
       "  </tbody>\n",
       "</table>\n",
       "</div>"
      ],
      "text/plain": [
       "     participant                      soundsA      A.rt      B.rt      C.rt  \\\n",
       "5   Leticia_2511  l_selecao_v1_wav/L_109A.wav  1.079440  1.944030  0.960350   \n",
       "8   Leticia_2511   l_selecao_v1_wav/L_94A.wav  0.652570  0.718760  0.758215   \n",
       "10  Leticia_2511   l_selecao_v1_wav/L_49A.wav  1.128935  0.409260  0.683385   \n",
       "12  Leticia_2511   l_selecao_v1_wav/L_77A.wav  0.722540  0.433905  0.443615   \n",
       "13  Leticia_2511   l_selecao_v1_wav/L_29A.wav  0.922965  0.653115  0.778515   \n",
       "\n",
       "   resposta  quest.rt  frase  foco condicao  \n",
       "5         s  1.003800  L_109  foco     S_CE  \n",
       "8         s  1.213950   L_94  foco     A_EC  \n",
       "10        s  0.772675   L_49  foco     S_CE  \n",
       "12        s  0.802755   L_77  foco        C  \n",
       "13        s  1.233390   L_29  foco        C  "
      ]
     },
     "execution_count": 102,
     "metadata": {},
     "output_type": "execute_result"
    }
   ],
   "source": [
    "dfs_foco.head()"
   ]
  },
  {
   "cell_type": "code",
   "execution_count": 103,
   "metadata": {},
   "outputs": [
    {
     "data": {
      "text/plain": [
       "18"
      ]
     },
     "execution_count": 103,
     "metadata": {},
     "output_type": "execute_result"
    }
   ],
   "source": [
    "len(np.sort(dfs_foco[dfs_foco.condicao=='C'].soundsA.unique()))"
   ]
  },
  {
   "cell_type": "code",
   "execution_count": 104,
   "metadata": {},
   "outputs": [],
   "source": [
    "df_time = pd.DataFrame(np.array([dfs_foco['A.rt'].values, dfs_foco['B.rt'], dfs_foco['C.rt']]).flatten(), columns=['time'])"
   ]
  },
  {
   "cell_type": "code",
   "execution_count": 105,
   "metadata": {},
   "outputs": [],
   "source": [
    "names, ns, ss = [], [], []\n",
    "for name, group in dfs_foco[dfs_foco.condicao=='E'].groupby('frase'):\n",
    "    names.append(name)\n",
    "    ns.append(group[group['resposta']=='n'].shape[0]*100/group.shape[0])\n",
    "    ss.append(group[group['resposta']=='s'].shape[0]*100/group.shape[0])\n"
   ]
  },
  {
   "cell_type": "code",
   "execution_count": 106,
   "metadata": {},
   "outputs": [
    {
     "data": {
      "text/html": [
       "<div>\n",
       "<style scoped>\n",
       "    .dataframe tbody tr th:only-of-type {\n",
       "        vertical-align: middle;\n",
       "    }\n",
       "\n",
       "    .dataframe tbody tr th {\n",
       "        vertical-align: top;\n",
       "    }\n",
       "\n",
       "    .dataframe thead th {\n",
       "        text-align: right;\n",
       "    }\n",
       "</style>\n",
       "<table border=\"1\" class=\"dataframe\">\n",
       "  <thead>\n",
       "    <tr style=\"text-align: right;\">\n",
       "      <th></th>\n",
       "      <th>frase_E</th>\n",
       "      <th>n</th>\n",
       "      <th>s</th>\n",
       "    </tr>\n",
       "  </thead>\n",
       "  <tbody>\n",
       "    <tr>\n",
       "      <th>0</th>\n",
       "      <td>L_102</td>\n",
       "      <td>80.000000</td>\n",
       "      <td>20.000000</td>\n",
       "    </tr>\n",
       "    <tr>\n",
       "      <th>1</th>\n",
       "      <td>L_108</td>\n",
       "      <td>72.727273</td>\n",
       "      <td>27.272727</td>\n",
       "    </tr>\n",
       "    <tr>\n",
       "      <th>2</th>\n",
       "      <td>L_114</td>\n",
       "      <td>90.000000</td>\n",
       "      <td>10.000000</td>\n",
       "    </tr>\n",
       "    <tr>\n",
       "      <th>3</th>\n",
       "      <td>L_12</td>\n",
       "      <td>80.000000</td>\n",
       "      <td>20.000000</td>\n",
       "    </tr>\n",
       "    <tr>\n",
       "      <th>4</th>\n",
       "      <td>L_120</td>\n",
       "      <td>54.545455</td>\n",
       "      <td>45.454545</td>\n",
       "    </tr>\n",
       "    <tr>\n",
       "      <th>5</th>\n",
       "      <td>L_126</td>\n",
       "      <td>33.333333</td>\n",
       "      <td>66.666667</td>\n",
       "    </tr>\n",
       "    <tr>\n",
       "      <th>6</th>\n",
       "      <td>L_144</td>\n",
       "      <td>80.000000</td>\n",
       "      <td>20.000000</td>\n",
       "    </tr>\n",
       "    <tr>\n",
       "      <th>7</th>\n",
       "      <td>L_24</td>\n",
       "      <td>63.636364</td>\n",
       "      <td>36.363636</td>\n",
       "    </tr>\n",
       "    <tr>\n",
       "      <th>8</th>\n",
       "      <td>L_30</td>\n",
       "      <td>80.000000</td>\n",
       "      <td>20.000000</td>\n",
       "    </tr>\n",
       "    <tr>\n",
       "      <th>9</th>\n",
       "      <td>L_36</td>\n",
       "      <td>81.818182</td>\n",
       "      <td>18.181818</td>\n",
       "    </tr>\n",
       "    <tr>\n",
       "      <th>10</th>\n",
       "      <td>L_42</td>\n",
       "      <td>90.000000</td>\n",
       "      <td>10.000000</td>\n",
       "    </tr>\n",
       "    <tr>\n",
       "      <th>11</th>\n",
       "      <td>L_54</td>\n",
       "      <td>60.000000</td>\n",
       "      <td>40.000000</td>\n",
       "    </tr>\n",
       "    <tr>\n",
       "      <th>12</th>\n",
       "      <td>L_6</td>\n",
       "      <td>81.818182</td>\n",
       "      <td>18.181818</td>\n",
       "    </tr>\n",
       "    <tr>\n",
       "      <th>13</th>\n",
       "      <td>L_60</td>\n",
       "      <td>81.818182</td>\n",
       "      <td>18.181818</td>\n",
       "    </tr>\n",
       "    <tr>\n",
       "      <th>14</th>\n",
       "      <td>L_78</td>\n",
       "      <td>50.000000</td>\n",
       "      <td>50.000000</td>\n",
       "    </tr>\n",
       "    <tr>\n",
       "      <th>15</th>\n",
       "      <td>L_84</td>\n",
       "      <td>36.363636</td>\n",
       "      <td>63.636364</td>\n",
       "    </tr>\n",
       "    <tr>\n",
       "      <th>16</th>\n",
       "      <td>L_90</td>\n",
       "      <td>100.000000</td>\n",
       "      <td>0.000000</td>\n",
       "    </tr>\n",
       "    <tr>\n",
       "      <th>17</th>\n",
       "      <td>L_96</td>\n",
       "      <td>81.818182</td>\n",
       "      <td>18.181818</td>\n",
       "    </tr>\n",
       "  </tbody>\n",
       "</table>\n",
       "</div>"
      ],
      "text/plain": [
       "   frase_E           n          s\n",
       "0    L_102   80.000000  20.000000\n",
       "1    L_108   72.727273  27.272727\n",
       "2    L_114   90.000000  10.000000\n",
       "3     L_12   80.000000  20.000000\n",
       "4    L_120   54.545455  45.454545\n",
       "5    L_126   33.333333  66.666667\n",
       "6    L_144   80.000000  20.000000\n",
       "7     L_24   63.636364  36.363636\n",
       "8     L_30   80.000000  20.000000\n",
       "9     L_36   81.818182  18.181818\n",
       "10    L_42   90.000000  10.000000\n",
       "11    L_54   60.000000  40.000000\n",
       "12     L_6   81.818182  18.181818\n",
       "13    L_60   81.818182  18.181818\n",
       "14    L_78   50.000000  50.000000\n",
       "15    L_84   36.363636  63.636364\n",
       "16    L_90  100.000000   0.000000\n",
       "17    L_96   81.818182  18.181818"
      ]
     },
     "execution_count": 106,
     "metadata": {},
     "output_type": "execute_result"
    }
   ],
   "source": [
    "pd.DataFrame(data = {'frase_E':names, 'n':ns, 's':ss})"
   ]
  },
  {
   "cell_type": "code",
   "execution_count": 107,
   "metadata": {},
   "outputs": [],
   "source": [
    "names, ns, ss = [], [], []\n",
    "for name, group in dfs_foco[dfs_foco.condicao=='C'].groupby('frase'):\n",
    "    names.append(name)\n",
    "    ns.append(group[group['resposta']=='n'].shape[0]*100/group.shape[0])\n",
    "    ss.append(group[group['resposta']=='s'].shape[0]*100/group.shape[0])\n"
   ]
  },
  {
   "cell_type": "code",
   "execution_count": 108,
   "metadata": {},
   "outputs": [
    {
     "data": {
      "text/html": [
       "<div>\n",
       "<style scoped>\n",
       "    .dataframe tbody tr th:only-of-type {\n",
       "        vertical-align: middle;\n",
       "    }\n",
       "\n",
       "    .dataframe tbody tr th {\n",
       "        vertical-align: top;\n",
       "    }\n",
       "\n",
       "    .dataframe thead th {\n",
       "        text-align: right;\n",
       "    }\n",
       "</style>\n",
       "<table border=\"1\" class=\"dataframe\">\n",
       "  <thead>\n",
       "    <tr style=\"text-align: right;\">\n",
       "      <th></th>\n",
       "      <th>frase_C</th>\n",
       "      <th>n</th>\n",
       "      <th>s</th>\n",
       "    </tr>\n",
       "  </thead>\n",
       "  <tbody>\n",
       "    <tr>\n",
       "      <th>0</th>\n",
       "      <td>L_101</td>\n",
       "      <td>0.000000</td>\n",
       "      <td>100.000000</td>\n",
       "    </tr>\n",
       "    <tr>\n",
       "      <th>1</th>\n",
       "      <td>L_107</td>\n",
       "      <td>0.000000</td>\n",
       "      <td>100.000000</td>\n",
       "    </tr>\n",
       "    <tr>\n",
       "      <th>2</th>\n",
       "      <td>L_11</td>\n",
       "      <td>0.000000</td>\n",
       "      <td>100.000000</td>\n",
       "    </tr>\n",
       "    <tr>\n",
       "      <th>3</th>\n",
       "      <td>L_113</td>\n",
       "      <td>9.090909</td>\n",
       "      <td>90.909091</td>\n",
       "    </tr>\n",
       "    <tr>\n",
       "      <th>4</th>\n",
       "      <td>L_119</td>\n",
       "      <td>30.000000</td>\n",
       "      <td>70.000000</td>\n",
       "    </tr>\n",
       "    <tr>\n",
       "      <th>5</th>\n",
       "      <td>L_125</td>\n",
       "      <td>0.000000</td>\n",
       "      <td>100.000000</td>\n",
       "    </tr>\n",
       "    <tr>\n",
       "      <th>6</th>\n",
       "      <td>L_143</td>\n",
       "      <td>18.181818</td>\n",
       "      <td>81.818182</td>\n",
       "    </tr>\n",
       "    <tr>\n",
       "      <th>7</th>\n",
       "      <td>L_23</td>\n",
       "      <td>20.000000</td>\n",
       "      <td>80.000000</td>\n",
       "    </tr>\n",
       "    <tr>\n",
       "      <th>8</th>\n",
       "      <td>L_29</td>\n",
       "      <td>9.090909</td>\n",
       "      <td>90.909091</td>\n",
       "    </tr>\n",
       "    <tr>\n",
       "      <th>9</th>\n",
       "      <td>L_35</td>\n",
       "      <td>0.000000</td>\n",
       "      <td>100.000000</td>\n",
       "    </tr>\n",
       "    <tr>\n",
       "      <th>10</th>\n",
       "      <td>L_41</td>\n",
       "      <td>45.454545</td>\n",
       "      <td>54.545455</td>\n",
       "    </tr>\n",
       "    <tr>\n",
       "      <th>11</th>\n",
       "      <td>L_5</td>\n",
       "      <td>0.000000</td>\n",
       "      <td>100.000000</td>\n",
       "    </tr>\n",
       "    <tr>\n",
       "      <th>12</th>\n",
       "      <td>L_53</td>\n",
       "      <td>0.000000</td>\n",
       "      <td>100.000000</td>\n",
       "    </tr>\n",
       "    <tr>\n",
       "      <th>13</th>\n",
       "      <td>L_59</td>\n",
       "      <td>10.000000</td>\n",
       "      <td>90.000000</td>\n",
       "    </tr>\n",
       "    <tr>\n",
       "      <th>14</th>\n",
       "      <td>L_77</td>\n",
       "      <td>9.090909</td>\n",
       "      <td>90.909091</td>\n",
       "    </tr>\n",
       "    <tr>\n",
       "      <th>15</th>\n",
       "      <td>L_83</td>\n",
       "      <td>10.000000</td>\n",
       "      <td>90.000000</td>\n",
       "    </tr>\n",
       "    <tr>\n",
       "      <th>16</th>\n",
       "      <td>L_89</td>\n",
       "      <td>10.000000</td>\n",
       "      <td>90.000000</td>\n",
       "    </tr>\n",
       "    <tr>\n",
       "      <th>17</th>\n",
       "      <td>L_95</td>\n",
       "      <td>10.000000</td>\n",
       "      <td>90.000000</td>\n",
       "    </tr>\n",
       "  </tbody>\n",
       "</table>\n",
       "</div>"
      ],
      "text/plain": [
       "   frase_C          n           s\n",
       "0    L_101   0.000000  100.000000\n",
       "1    L_107   0.000000  100.000000\n",
       "2     L_11   0.000000  100.000000\n",
       "3    L_113   9.090909   90.909091\n",
       "4    L_119  30.000000   70.000000\n",
       "5    L_125   0.000000  100.000000\n",
       "6    L_143  18.181818   81.818182\n",
       "7     L_23  20.000000   80.000000\n",
       "8     L_29   9.090909   90.909091\n",
       "9     L_35   0.000000  100.000000\n",
       "10    L_41  45.454545   54.545455\n",
       "11     L_5   0.000000  100.000000\n",
       "12    L_53   0.000000  100.000000\n",
       "13    L_59  10.000000   90.000000\n",
       "14    L_77   9.090909   90.909091\n",
       "15    L_83  10.000000   90.000000\n",
       "16    L_89  10.000000   90.000000\n",
       "17    L_95  10.000000   90.000000"
      ]
     },
     "execution_count": 108,
     "metadata": {},
     "output_type": "execute_result"
    }
   ],
   "source": [
    "pd.DataFrame(data = {'frase_C':names, 'n':ns, 's':ss})"
   ]
  },
  {
   "cell_type": "code",
   "execution_count": 28,
   "metadata": {},
   "outputs": [
    {
     "data": {
      "text/html": [
       "<div>\n",
       "<style scoped>\n",
       "    .dataframe tbody tr th:only-of-type {\n",
       "        vertical-align: middle;\n",
       "    }\n",
       "\n",
       "    .dataframe tbody tr th {\n",
       "        vertical-align: top;\n",
       "    }\n",
       "\n",
       "    .dataframe thead th {\n",
       "        text-align: right;\n",
       "    }\n",
       "</style>\n",
       "<table border=\"1\" class=\"dataframe\">\n",
       "  <thead>\n",
       "    <tr style=\"text-align: right;\">\n",
       "      <th></th>\n",
       "      <th>participant</th>\n",
       "      <th>soundsA</th>\n",
       "      <th>A.rt</th>\n",
       "      <th>B.rt</th>\n",
       "      <th>C.rt</th>\n",
       "      <th>resposta</th>\n",
       "      <th>quest.rt</th>\n",
       "      <th>frase</th>\n",
       "      <th>foco</th>\n",
       "      <th>condicao</th>\n",
       "    </tr>\n",
       "  </thead>\n",
       "  <tbody>\n",
       "    <tr>\n",
       "      <th>5</th>\n",
       "      <td>Leticia_2511</td>\n",
       "      <td>l_selecao_v1_wav/L_109A.wav</td>\n",
       "      <td>1.079440</td>\n",
       "      <td>1.944030</td>\n",
       "      <td>0.960350</td>\n",
       "      <td>s</td>\n",
       "      <td>1.003800</td>\n",
       "      <td>L_109</td>\n",
       "      <td>foco</td>\n",
       "      <td>S_CE</td>\n",
       "    </tr>\n",
       "    <tr>\n",
       "      <th>8</th>\n",
       "      <td>Leticia_2511</td>\n",
       "      <td>l_selecao_v1_wav/L_94A.wav</td>\n",
       "      <td>0.652570</td>\n",
       "      <td>0.718760</td>\n",
       "      <td>0.758215</td>\n",
       "      <td>s</td>\n",
       "      <td>1.213950</td>\n",
       "      <td>L_94</td>\n",
       "      <td>foco</td>\n",
       "      <td>A_EC</td>\n",
       "    </tr>\n",
       "    <tr>\n",
       "      <th>10</th>\n",
       "      <td>Leticia_2511</td>\n",
       "      <td>l_selecao_v1_wav/L_49A.wav</td>\n",
       "      <td>1.128935</td>\n",
       "      <td>0.409260</td>\n",
       "      <td>0.683385</td>\n",
       "      <td>s</td>\n",
       "      <td>0.772675</td>\n",
       "      <td>L_49</td>\n",
       "      <td>foco</td>\n",
       "      <td>S_CE</td>\n",
       "    </tr>\n",
       "    <tr>\n",
       "      <th>12</th>\n",
       "      <td>Leticia_2511</td>\n",
       "      <td>l_selecao_v1_wav/L_77A.wav</td>\n",
       "      <td>0.722540</td>\n",
       "      <td>0.433905</td>\n",
       "      <td>0.443615</td>\n",
       "      <td>s</td>\n",
       "      <td>0.802755</td>\n",
       "      <td>L_77</td>\n",
       "      <td>foco</td>\n",
       "      <td>C</td>\n",
       "    </tr>\n",
       "    <tr>\n",
       "      <th>13</th>\n",
       "      <td>Leticia_2511</td>\n",
       "      <td>l_selecao_v1_wav/L_29A.wav</td>\n",
       "      <td>0.922965</td>\n",
       "      <td>0.653115</td>\n",
       "      <td>0.778515</td>\n",
       "      <td>s</td>\n",
       "      <td>1.233390</td>\n",
       "      <td>L_29</td>\n",
       "      <td>foco</td>\n",
       "      <td>C</td>\n",
       "    </tr>\n",
       "  </tbody>\n",
       "</table>\n",
       "</div>"
      ],
      "text/plain": [
       "     participant                      soundsA      A.rt      B.rt      C.rt  \\\n",
       "5   Leticia_2511  l_selecao_v1_wav/L_109A.wav  1.079440  1.944030  0.960350   \n",
       "8   Leticia_2511   l_selecao_v1_wav/L_94A.wav  0.652570  0.718760  0.758215   \n",
       "10  Leticia_2511   l_selecao_v1_wav/L_49A.wav  1.128935  0.409260  0.683385   \n",
       "12  Leticia_2511   l_selecao_v1_wav/L_77A.wav  0.722540  0.433905  0.443615   \n",
       "13  Leticia_2511   l_selecao_v1_wav/L_29A.wav  0.922965  0.653115  0.778515   \n",
       "\n",
       "   resposta  quest.rt  frase  foco condicao  \n",
       "5         s  1.003800  L_109  foco     S_CE  \n",
       "8         s  1.213950   L_94  foco     A_EC  \n",
       "10        s  0.772675   L_49  foco     S_CE  \n",
       "12        s  0.802755   L_77  foco        C  \n",
       "13        s  1.233390   L_29  foco        C  "
      ]
     },
     "execution_count": 28,
     "metadata": {},
     "output_type": "execute_result"
    }
   ],
   "source": [
    "dfs_foco.head()"
   ]
  },
  {
   "cell_type": "code",
   "execution_count": 29,
   "metadata": {},
   "outputs": [
    {
     "data": {
      "text/plain": [
       "A.rt        19.431715\n",
       "B.rt        15.294000\n",
       "C.rt        30.090915\n",
       "quest.rt    68.486710\n",
       "dtype: float64"
      ]
     },
     "execution_count": 29,
     "metadata": {},
     "output_type": "execute_result"
    }
   ],
   "source": [
    "dfs_foco[['A.rt', 'B.rt', 'C.rt', 'quest.rt']].max()"
   ]
  },
  {
   "cell_type": "code",
   "execution_count": 33,
   "metadata": {},
   "outputs": [
    {
     "data": {
      "text/html": [
       "<div>\n",
       "<style scoped>\n",
       "    .dataframe tbody tr th:only-of-type {\n",
       "        vertical-align: middle;\n",
       "    }\n",
       "\n",
       "    .dataframe tbody tr th {\n",
       "        vertical-align: top;\n",
       "    }\n",
       "\n",
       "    .dataframe thead th {\n",
       "        text-align: right;\n",
       "    }\n",
       "</style>\n",
       "<table border=\"1\" class=\"dataframe\">\n",
       "  <thead>\n",
       "    <tr style=\"text-align: right;\">\n",
       "      <th></th>\n",
       "      <th>participant</th>\n",
       "      <th>soundsA</th>\n",
       "      <th>A.rt</th>\n",
       "      <th>B.rt</th>\n",
       "      <th>C.rt</th>\n",
       "      <th>resposta</th>\n",
       "      <th>quest.rt</th>\n",
       "      <th>frase</th>\n",
       "      <th>foco</th>\n",
       "      <th>condicao</th>\n",
       "    </tr>\n",
       "  </thead>\n",
       "  <tbody>\n",
       "    <tr>\n",
       "      <th>5</th>\n",
       "      <td>Leticia_2511</td>\n",
       "      <td>l_selecao_v1_wav/L_109A.wav</td>\n",
       "      <td>1.079440</td>\n",
       "      <td>1.944030</td>\n",
       "      <td>0.960350</td>\n",
       "      <td>s</td>\n",
       "      <td>1.003800</td>\n",
       "      <td>L_109</td>\n",
       "      <td>foco</td>\n",
       "      <td>S_CE</td>\n",
       "    </tr>\n",
       "    <tr>\n",
       "      <th>8</th>\n",
       "      <td>Leticia_2511</td>\n",
       "      <td>l_selecao_v1_wav/L_94A.wav</td>\n",
       "      <td>0.652570</td>\n",
       "      <td>0.718760</td>\n",
       "      <td>0.758215</td>\n",
       "      <td>s</td>\n",
       "      <td>1.213950</td>\n",
       "      <td>L_94</td>\n",
       "      <td>foco</td>\n",
       "      <td>A_EC</td>\n",
       "    </tr>\n",
       "    <tr>\n",
       "      <th>10</th>\n",
       "      <td>Leticia_2511</td>\n",
       "      <td>l_selecao_v1_wav/L_49A.wav</td>\n",
       "      <td>1.128935</td>\n",
       "      <td>0.409260</td>\n",
       "      <td>0.683385</td>\n",
       "      <td>s</td>\n",
       "      <td>0.772675</td>\n",
       "      <td>L_49</td>\n",
       "      <td>foco</td>\n",
       "      <td>S_CE</td>\n",
       "    </tr>\n",
       "    <tr>\n",
       "      <th>12</th>\n",
       "      <td>Leticia_2511</td>\n",
       "      <td>l_selecao_v1_wav/L_77A.wav</td>\n",
       "      <td>0.722540</td>\n",
       "      <td>0.433905</td>\n",
       "      <td>0.443615</td>\n",
       "      <td>s</td>\n",
       "      <td>0.802755</td>\n",
       "      <td>L_77</td>\n",
       "      <td>foco</td>\n",
       "      <td>C</td>\n",
       "    </tr>\n",
       "    <tr>\n",
       "      <th>13</th>\n",
       "      <td>Leticia_2511</td>\n",
       "      <td>l_selecao_v1_wav/L_29A.wav</td>\n",
       "      <td>0.922965</td>\n",
       "      <td>0.653115</td>\n",
       "      <td>0.778515</td>\n",
       "      <td>s</td>\n",
       "      <td>1.233390</td>\n",
       "      <td>L_29</td>\n",
       "      <td>foco</td>\n",
       "      <td>C</td>\n",
       "    </tr>\n",
       "  </tbody>\n",
       "</table>\n",
       "</div>"
      ],
      "text/plain": [
       "     participant                      soundsA      A.rt      B.rt      C.rt  \\\n",
       "5   Leticia_2511  l_selecao_v1_wav/L_109A.wav  1.079440  1.944030  0.960350   \n",
       "8   Leticia_2511   l_selecao_v1_wav/L_94A.wav  0.652570  0.718760  0.758215   \n",
       "10  Leticia_2511   l_selecao_v1_wav/L_49A.wav  1.128935  0.409260  0.683385   \n",
       "12  Leticia_2511   l_selecao_v1_wav/L_77A.wav  0.722540  0.433905  0.443615   \n",
       "13  Leticia_2511   l_selecao_v1_wav/L_29A.wav  0.922965  0.653115  0.778515   \n",
       "\n",
       "   resposta  quest.rt  frase  foco condicao  \n",
       "5         s  1.003800  L_109  foco     S_CE  \n",
       "8         s  1.213950   L_94  foco     A_EC  \n",
       "10        s  0.772675   L_49  foco     S_CE  \n",
       "12        s  0.802755   L_77  foco        C  \n",
       "13        s  1.233390   L_29  foco        C  "
      ]
     },
     "execution_count": 33,
     "metadata": {},
     "output_type": "execute_result"
    }
   ],
   "source": [
    "dfs_foco.head()"
   ]
  },
  {
   "cell_type": "markdown",
   "metadata": {},
   "source": [
    "## Respostas"
   ]
  },
  {
   "cell_type": "code",
   "execution_count": 109,
   "metadata": {},
   "outputs": [],
   "source": [
    "def barplot_annotate_brackets(num1, num2, data, center, height, yerr=None, dh=.02, barh=.01, fs=None, maxasterix=4):\n",
    "    if type(data) is str:\n",
    "        text = data\n",
    "    else:\n",
    "        # * is p < 0.05\n",
    "        # ** is p < 0.005\n",
    "        # *** is p < 0.0005\n",
    "        # etc.\n",
    "        text = ''\n",
    "        p = .05\n",
    "        if (np.round(data, 3) == 0.051):\n",
    "            data = 0.05\n",
    "        while data <= p:\n",
    "            text += '*'\n",
    "            p /= 10.\n",
    "\n",
    "            if maxasterix and len(text) == maxasterix:\n",
    "                break\n",
    "        if (text=='****'):\n",
    "            text='***'\n",
    "        if len(text) == 0:\n",
    "            text ='n.s.'\n",
    "    '''if (text!='n. s.'):\n",
    "        if (len(text)==1):\n",
    "            text='p ='+str(np.round(data, 3))+'\\n'+text\n",
    "        elif (len(text)==2):\n",
    "            text='p ='+str(np.round(data, 3))+'\\n'+text\n",
    "        elif (len(text)==3):\n",
    "            text='p < 0.0005'+str(np.round(data, 3))+text\n",
    "        '''\n",
    "    lx, ly = center[num1], height[num1]\n",
    "    rx, ry = center[num2], height[num2]\n",
    "\n",
    "    if yerr:\n",
    "        ly += yerr[num1]\n",
    "        ry += yerr[num2]\n",
    "\n",
    "    ax_y0, ax_y1 = plt.gca().get_ylim()\n",
    "    dh *= (ax_y1 - ax_y0)\n",
    "    barh *= (ax_y1 - ax_y0)\n",
    "\n",
    "    y = max(ly, ry) + dh\n",
    "\n",
    "    barx = [lx, lx, rx, rx]\n",
    "    bary = [y, y+barh, y+barh, y]\n",
    "    mid = ((lx+rx)/2, y+barh)\n",
    "\n",
    "    plt.plot(barx, bary, c='black')\n",
    "\n",
    "    kwargs = dict(ha='center', va='bottom')\n",
    "    if fs is not None:\n",
    "        kwargs['fontsize'] = fs\n",
    "\n",
    "    plt.text(*mid, text, **kwargs)"
   ]
  },
  {
   "cell_type": "code",
   "execution_count": 110,
   "metadata": {},
   "outputs": [],
   "source": [
    "df_time_sem = pd.DataFrame(np.array([dfs_foco[(dfs_foco.condicao=='C') | (dfs_foco.condicao=='E')]['A.rt'].values, dfs_foco[(dfs_foco.condicao=='C') | (dfs_foco.condicao=='E')]['B.rt'], dfs_foco[(dfs_foco.condicao=='C') | (dfs_foco.condicao=='E')]['C.rt']]).flatten(), columns=['time'])"
   ]
  },
  {
   "cell_type": "code",
   "execution_count": 111,
   "metadata": {},
   "outputs": [],
   "source": [
    "df_time_com = pd.DataFrame(np.array([dfs_foco[(dfs_foco.condicao!='C') & (dfs_foco.condicao!='E')]['A.rt'].values, dfs_foco[(dfs_foco.condicao!='C') & (dfs_foco.condicao!='E')]['B.rt'], dfs_foco[(dfs_foco.condicao!='C') & (dfs_foco.condicao!='E')]['C.rt']]).flatten(), columns=['time'])"
   ]
  },
  {
   "cell_type": "code",
   "execution_count": 112,
   "metadata": {},
   "outputs": [
    {
     "data": {
      "text/plain": [
       "<AxesSubplot:>"
      ]
     },
     "execution_count": 112,
     "metadata": {},
     "output_type": "execute_result"
    },
    {
     "data": {
      "image/png": "[encoded data removed]",
      "text/plain": [
       "<Figure size 432x288 with 1 Axes>"
      ]
     },
     "metadata": {
      "needs_background": "light"
     },
     "output_type": "display_data"
    }
   ],
   "source": [
    "df_time.boxplot(column=['time'])"
   ]
  },
  {
   "cell_type": "code",
   "execution_count": 113,
   "metadata": {},
   "outputs": [
    {
     "data": {
      "text/plain": [
       "5.0131639999998985"
      ]
     },
     "execution_count": 113,
     "metadata": {},
     "output_type": "execute_result"
    }
   ],
   "source": [
    "df_time_sem['time'].quantile(.995)"
   ]
  },
  {
   "cell_type": "code",
   "execution_count": 114,
   "metadata": {},
   "outputs": [
    {
     "data": {
      "text/plain": [
       "8.673293399999986"
      ]
     },
     "execution_count": 114,
     "metadata": {},
     "output_type": "execute_result"
    }
   ],
   "source": [
    "df_time_com['time'].quantile(.995)"
   ]
  },
  {
   "cell_type": "code",
   "execution_count": 42,
   "metadata": {},
   "outputs": [
    {
     "data": {
      "text/html": [
       "<div>\n",
       "<style scoped>\n",
       "    .dataframe tbody tr th:only-of-type {\n",
       "        vertical-align: middle;\n",
       "    }\n",
       "\n",
       "    .dataframe tbody tr th {\n",
       "        vertical-align: top;\n",
       "    }\n",
       "\n",
       "    .dataframe thead th {\n",
       "        text-align: right;\n",
       "    }\n",
       "</style>\n",
       "<table border=\"1\" class=\"dataframe\">\n",
       "  <thead>\n",
       "    <tr style=\"text-align: right;\">\n",
       "      <th></th>\n",
       "      <th>time</th>\n",
       "    </tr>\n",
       "  </thead>\n",
       "  <tbody>\n",
       "    <tr>\n",
       "      <th>0</th>\n",
       "      <td>1.079440</td>\n",
       "    </tr>\n",
       "    <tr>\n",
       "      <th>1</th>\n",
       "      <td>0.652570</td>\n",
       "    </tr>\n",
       "    <tr>\n",
       "      <th>2</th>\n",
       "      <td>1.128935</td>\n",
       "    </tr>\n",
       "    <tr>\n",
       "      <th>3</th>\n",
       "      <td>0.722540</td>\n",
       "    </tr>\n",
       "    <tr>\n",
       "      <th>4</th>\n",
       "      <td>0.922965</td>\n",
       "    </tr>\n",
       "  </tbody>\n",
       "</table>\n",
       "</div>"
      ],
      "text/plain": [
       "       time\n",
       "0  1.079440\n",
       "1  0.652570\n",
       "2  1.128935\n",
       "3  0.722540\n",
       "4  0.922965"
      ]
     },
     "execution_count": 42,
     "metadata": {},
     "output_type": "execute_result"
    }
   ],
   "source": [
    "df_time.head()"
   ]
  },
  {
   "cell_type": "code",
   "execution_count": 115,
   "metadata": {},
   "outputs": [
    {
     "data": {
      "text/plain": [
       "4.372979100000008"
      ]
     },
     "execution_count": 115,
     "metadata": {},
     "output_type": "execute_result"
    }
   ],
   "source": [
    "df_time_sem['time'].quantile(0.994)"
   ]
  },
  {
   "cell_type": "code",
   "execution_count": 116,
   "metadata": {},
   "outputs": [
    {
     "name": "stderr",
     "output_type": "stream",
     "text": [
      "<ipython-input-116-71d9e2c3ea3d>:5: SettingWithCopyWarning: \n",
      "A value is trying to be set on a copy of a slice from a DataFrame.\n",
      "Try using .loc[row_indexer,col_indexer] = value instead\n",
      "\n",
      "See the caveats in the documentation: https://pandas.pydata.org/pandas-docs/stable/user_guide/indexing.html#returning-a-view-versus-a-copy\n",
      "  df_sup['frase'] = dfs_foco.frase\n",
      "<ipython-input-116-71d9e2c3ea3d>:6: SettingWithCopyWarning: \n",
      "A value is trying to be set on a copy of a slice from a DataFrame.\n",
      "Try using .loc[row_indexer,col_indexer] = value instead\n",
      "\n",
      "See the caveats in the documentation: https://pandas.pydata.org/pandas-docs/stable/user_guide/indexing.html#returning-a-view-versus-a-copy\n",
      "  df_sup['resposta'] = dfs_foco.resposta\n",
      "<ipython-input-116-71d9e2c3ea3d>:7: SettingWithCopyWarning: \n",
      "A value is trying to be set on a copy of a slice from a DataFrame.\n",
      "Try using .loc[row_indexer,col_indexer] = value instead\n",
      "\n",
      "See the caveats in the documentation: https://pandas.pydata.org/pandas-docs/stable/user_guide/indexing.html#returning-a-view-versus-a-copy\n",
      "  df_sup['condicao'] = dfs_foco.condicao\n",
      "<ipython-input-116-71d9e2c3ea3d>:8: SettingWithCopyWarning: \n",
      "A value is trying to be set on a copy of a slice from a DataFrame.\n",
      "Try using .loc[row_indexer,col_indexer] = value instead\n",
      "\n",
      "See the caveats in the documentation: https://pandas.pydata.org/pandas-docs/stable/user_guide/indexing.html#returning-a-view-versus-a-copy\n",
      "  df_sup['participant'] = dfs_foco.participant\n"
     ]
    }
   ],
   "source": [
    "df_sup = dfs_foco[['A.rt', 'B.rt', 'C.rt', 'quest.rt']]\n",
    "'''for col in df_sup.columns[:-1]:\n",
    "    df_sup[df_sup[col] > df_time['time'].quantile(0.996)] = np.NaN'''\n",
    "#df_sup[df_sup>3.84] = np.NaN\n",
    "df_sup['frase'] = dfs_foco.frase\n",
    "df_sup['resposta'] = dfs_foco.resposta\n",
    "df_sup['condicao'] = dfs_foco.condicao\n",
    "df_sup['participant'] = dfs_foco.participant\n",
    "df = df_sup[df_sup.frase!='L_58']"
   ]
  },
  {
   "cell_type": "code",
   "execution_count": 117,
   "metadata": {},
   "outputs": [],
   "source": [
    "def disflu(condicao):\n",
    "    if (condicao=='E' or condicao=='C'):\n",
    "        return 0\n",
    "    else:\n",
    "        return 1"
   ]
  },
  {
   "cell_type": "code",
   "execution_count": 118,
   "metadata": {},
   "outputs": [
    {
     "name": "stderr",
     "output_type": "stream",
     "text": [
      "<ipython-input-118-6c39ab9f8f7c>:1: SettingWithCopyWarning: \n",
      "A value is trying to be set on a copy of a slice from a DataFrame.\n",
      "Try using .loc[row_indexer,col_indexer] = value instead\n",
      "\n",
      "See the caveats in the documentation: https://pandas.pydata.org/pandas-docs/stable/user_guide/indexing.html#returning-a-view-versus-a-copy\n",
      "  df['disfluency'] = df.condicao.apply(disflu)\n"
     ]
    }
   ],
   "source": [
    "df['disfluency'] = df.condicao.apply(disflu)"
   ]
  },
  {
   "cell_type": "code",
   "execution_count": 119,
   "metadata": {},
   "outputs": [
    {
     "data": {
      "text/html": [
       "<div>\n",
       "<style scoped>\n",
       "    .dataframe tbody tr th:only-of-type {\n",
       "        vertical-align: middle;\n",
       "    }\n",
       "\n",
       "    .dataframe tbody tr th {\n",
       "        vertical-align: top;\n",
       "    }\n",
       "\n",
       "    .dataframe thead th {\n",
       "        text-align: right;\n",
       "    }\n",
       "</style>\n",
       "<table border=\"1\" class=\"dataframe\">\n",
       "  <thead>\n",
       "    <tr style=\"text-align: right;\">\n",
       "      <th></th>\n",
       "      <th>A.rt</th>\n",
       "      <th>B.rt</th>\n",
       "      <th>C.rt</th>\n",
       "      <th>quest.rt</th>\n",
       "      <th>frase</th>\n",
       "      <th>resposta</th>\n",
       "      <th>condicao</th>\n",
       "      <th>participant</th>\n",
       "      <th>disfluency</th>\n",
       "    </tr>\n",
       "  </thead>\n",
       "  <tbody>\n",
       "    <tr>\n",
       "      <th>5</th>\n",
       "      <td>1.079440</td>\n",
       "      <td>1.944030</td>\n",
       "      <td>0.960350</td>\n",
       "      <td>1.003800</td>\n",
       "      <td>L_109</td>\n",
       "      <td>s</td>\n",
       "      <td>S_CE</td>\n",
       "      <td>Leticia_2511</td>\n",
       "      <td>1</td>\n",
       "    </tr>\n",
       "    <tr>\n",
       "      <th>8</th>\n",
       "      <td>0.652570</td>\n",
       "      <td>0.718760</td>\n",
       "      <td>0.758215</td>\n",
       "      <td>1.213950</td>\n",
       "      <td>L_94</td>\n",
       "      <td>s</td>\n",
       "      <td>A_EC</td>\n",
       "      <td>Leticia_2511</td>\n",
       "      <td>1</td>\n",
       "    </tr>\n",
       "    <tr>\n",
       "      <th>10</th>\n",
       "      <td>1.128935</td>\n",
       "      <td>0.409260</td>\n",
       "      <td>0.683385</td>\n",
       "      <td>0.772675</td>\n",
       "      <td>L_49</td>\n",
       "      <td>s</td>\n",
       "      <td>S_CE</td>\n",
       "      <td>Leticia_2511</td>\n",
       "      <td>1</td>\n",
       "    </tr>\n",
       "    <tr>\n",
       "      <th>12</th>\n",
       "      <td>0.722540</td>\n",
       "      <td>0.433905</td>\n",
       "      <td>0.443615</td>\n",
       "      <td>0.802755</td>\n",
       "      <td>L_77</td>\n",
       "      <td>s</td>\n",
       "      <td>C</td>\n",
       "      <td>Leticia_2511</td>\n",
       "      <td>0</td>\n",
       "    </tr>\n",
       "    <tr>\n",
       "      <th>13</th>\n",
       "      <td>0.922965</td>\n",
       "      <td>0.653115</td>\n",
       "      <td>0.778515</td>\n",
       "      <td>1.233390</td>\n",
       "      <td>L_29</td>\n",
       "      <td>s</td>\n",
       "      <td>C</td>\n",
       "      <td>Leticia_2511</td>\n",
       "      <td>0</td>\n",
       "    </tr>\n",
       "  </tbody>\n",
       "</table>\n",
       "</div>"
      ],
      "text/plain": [
       "        A.rt      B.rt      C.rt  quest.rt  frase resposta condicao  \\\n",
       "5   1.079440  1.944030  0.960350  1.003800  L_109        s     S_CE   \n",
       "8   0.652570  0.718760  0.758215  1.213950   L_94        s     A_EC   \n",
       "10  1.128935  0.409260  0.683385  0.772675   L_49        s     S_CE   \n",
       "12  0.722540  0.433905  0.443615  0.802755   L_77        s        C   \n",
       "13  0.922965  0.653115  0.778515  1.233390   L_29        s        C   \n",
       "\n",
       "     participant  disfluency  \n",
       "5   Leticia_2511           1  \n",
       "8   Leticia_2511           1  \n",
       "10  Leticia_2511           1  \n",
       "12  Leticia_2511           0  \n",
       "13  Leticia_2511           0  "
      ]
     },
     "execution_count": 119,
     "metadata": {},
     "output_type": "execute_result"
    }
   ],
   "source": [
    "df.head()"
   ]
  },
  {
   "cell_type": "code",
   "execution_count": 120,
   "metadata": {},
   "outputs": [],
   "source": [
    "def trans_participante(df):\n",
    "    dfs = []\n",
    "    for name, group in df.groupby('participant'):\n",
    "        dfx = group\n",
    "        for trecho in (['A.rt', 'B.rt', 'C.rt', 'quest.rt']):\n",
    "            mean = dfx[trecho].mean()\n",
    "            std =  dfx[trecho].std()\n",
    "            dfx.loc[dfx[trecho] > mean+std, trecho] = np.NaN\n",
    "        dfs.append(dfx)\n",
    "    return pd.concat(dfs)"
   ]
  },
  {
   "cell_type": "code",
   "execution_count": 123,
   "metadata": {},
   "outputs": [],
   "source": [
    "disf = trans_participante(df[df.disfluency==1])"
   ]
  },
  {
   "cell_type": "code",
   "execution_count": 124,
   "metadata": {},
   "outputs": [
    {
     "data": {
      "text/html": [
       "<div>\n",
       "<style scoped>\n",
       "    .dataframe tbody tr th:only-of-type {\n",
       "        vertical-align: middle;\n",
       "    }\n",
       "\n",
       "    .dataframe tbody tr th {\n",
       "        vertical-align: top;\n",
       "    }\n",
       "\n",
       "    .dataframe thead th {\n",
       "        text-align: right;\n",
       "    }\n",
       "</style>\n",
       "<table border=\"1\" class=\"dataframe\">\n",
       "  <thead>\n",
       "    <tr style=\"text-align: right;\">\n",
       "      <th></th>\n",
       "      <th>A.rt</th>\n",
       "      <th>B.rt</th>\n",
       "      <th>C.rt</th>\n",
       "      <th>quest.rt</th>\n",
       "      <th>frase</th>\n",
       "      <th>resposta</th>\n",
       "      <th>condicao</th>\n",
       "      <th>participant</th>\n",
       "      <th>disfluency</th>\n",
       "    </tr>\n",
       "  </thead>\n",
       "  <tbody>\n",
       "    <tr>\n",
       "      <th>14</th>\n",
       "      <td>0.695400</td>\n",
       "      <td>0.536140</td>\n",
       "      <td>0.467160</td>\n",
       "      <td>0.188360</td>\n",
       "      <td>L_102</td>\n",
       "      <td>n</td>\n",
       "      <td>E</td>\n",
       "      <td>Laira</td>\n",
       "      <td>0</td>\n",
       "    </tr>\n",
       "    <tr>\n",
       "      <th>16</th>\n",
       "      <td>0.690625</td>\n",
       "      <td>0.361780</td>\n",
       "      <td>0.321680</td>\n",
       "      <td>0.918005</td>\n",
       "      <td>L_42</td>\n",
       "      <td>n</td>\n",
       "      <td>E</td>\n",
       "      <td>Laira</td>\n",
       "      <td>0</td>\n",
       "    </tr>\n",
       "    <tr>\n",
       "      <th>21</th>\n",
       "      <td>1.665280</td>\n",
       "      <td>0.241860</td>\n",
       "      <td>0.250290</td>\n",
       "      <td>1.475760</td>\n",
       "      <td>L_107</td>\n",
       "      <td>s</td>\n",
       "      <td>C</td>\n",
       "      <td>Laira</td>\n",
       "      <td>0</td>\n",
       "    </tr>\n",
       "    <tr>\n",
       "      <th>35</th>\n",
       "      <td>NaN</td>\n",
       "      <td>NaN</td>\n",
       "      <td>NaN</td>\n",
       "      <td>0.834305</td>\n",
       "      <td>L_89</td>\n",
       "      <td>s</td>\n",
       "      <td>C</td>\n",
       "      <td>Laira</td>\n",
       "      <td>0</td>\n",
       "    </tr>\n",
       "    <tr>\n",
       "      <th>37</th>\n",
       "      <td>2.594240</td>\n",
       "      <td>0.606565</td>\n",
       "      <td>0.103425</td>\n",
       "      <td>NaN</td>\n",
       "      <td>L_5</td>\n",
       "      <td>s</td>\n",
       "      <td>C</td>\n",
       "      <td>Laira</td>\n",
       "      <td>0</td>\n",
       "    </tr>\n",
       "    <tr>\n",
       "      <th>42</th>\n",
       "      <td>0.832980</td>\n",
       "      <td>0.550850</td>\n",
       "      <td>NaN</td>\n",
       "      <td>1.833135</td>\n",
       "      <td>L_144</td>\n",
       "      <td>s</td>\n",
       "      <td>E</td>\n",
       "      <td>Laira</td>\n",
       "      <td>0</td>\n",
       "    </tr>\n",
       "  </tbody>\n",
       "</table>\n",
       "</div>"
      ],
      "text/plain": [
       "        A.rt      B.rt      C.rt  quest.rt  frase resposta condicao  \\\n",
       "14  0.695400  0.536140  0.467160  0.188360  L_102        n        E   \n",
       "16  0.690625  0.361780  0.321680  0.918005   L_42        n        E   \n",
       "21  1.665280  0.241860  0.250290  1.475760  L_107        s        C   \n",
       "35       NaN       NaN       NaN  0.834305   L_89        s        C   \n",
       "37  2.594240  0.606565  0.103425       NaN    L_5        s        C   \n",
       "42  0.832980  0.550850       NaN  1.833135  L_144        s        E   \n",
       "\n",
       "   participant  disfluency  \n",
       "14       Laira           0  \n",
       "16       Laira           0  \n",
       "21       Laira           0  \n",
       "35       Laira           0  \n",
       "37       Laira           0  \n",
       "42       Laira           0  "
      ]
     },
     "execution_count": 124,
     "metadata": {},
     "output_type": "execute_result"
    }
   ],
   "source": [
    "ndisf = trans_participante(df[df.disfluency==0])\n",
    "ndisf[ndisf.participant=='Laira']"
   ]
  },
  {
   "cell_type": "code",
   "execution_count": 125,
   "metadata": {},
   "outputs": [],
   "source": [
    "df_trans = pd.concat([disf, ndisf])"
   ]
  },
  {
   "cell_type": "code",
   "execution_count": 131,
   "metadata": {},
   "outputs": [
    {
     "data": {
      "text/plain": [
       "Text(0, 0.5, 'ocorrências')"
      ]
     },
     "execution_count": 131,
     "metadata": {},
     "output_type": "execute_result"
    },
    {
     "data": {
      "image/png": "[encoded data removed]",
      "text/plain": [
       "<Figure size 504x432 with 1 Axes>"
      ]
     },
     "metadata": {
      "needs_background": "light"
     },
     "output_type": "display_data"
    }
   ],
   "source": [
    "ax, fig = plt.subplots(figsize=(7,6))\n",
    "plt.hist(df[(df.disfluency==1)]['B.rt'].values, 60, alpha=.8)\n",
    "#best_fit_line = scipy.stats.norm.pdf(bins, mu, sigma)\n",
    "#plt.plot(bins, best_fit_line, color='blue')\n",
    "plt.grid(False)\n",
    "plt.xlabel('RT (s)')\n",
    "plt.ylim()\n",
    "#plt.xlim(-0.1,5)\n",
    "plt.ylabel('ocorrências')\n",
    "#plt.savefig('Tempos/hist.jpg', bbox_inches='tight', dpi=150)"
   ]
  },
  {
   "cell_type": "code",
   "execution_count": 132,
   "metadata": {},
   "outputs": [
    {
     "data": {
      "text/plain": [
       "<AxesSubplot:>"
      ]
     },
     "execution_count": 132,
     "metadata": {},
     "output_type": "execute_result"
    },
    {
     "data": {
      "image/png": "[encoded data removed]",
      "text/plain": [
       "<Figure size 432x288 with 1 Axes>"
      ]
     },
     "metadata": {
      "needs_background": "light"
     },
     "output_type": "display_data"
    }
   ],
   "source": [
    "df[df.disfluency==0]['B.rt'].hist(bins=100)"
   ]
  },
  {
   "cell_type": "code",
   "execution_count": 133,
   "metadata": {},
   "outputs": [
    {
     "data": {
      "text/plain": [
       "<AxesSubplot:>"
      ]
     },
     "execution_count": 133,
     "metadata": {},
     "output_type": "execute_result"
    },
    {
     "data": {
      "image/png": "[encoded data removed]",
      "text/plain": [
       "<Figure size 432x288 with 1 Axes>"
      ]
     },
     "metadata": {
      "needs_background": "light"
     },
     "output_type": "display_data"
    }
   ],
   "source": [
    "df[df.disfluency==1]['C.rt'].hist(bins=100)"
   ]
  },
  {
   "cell_type": "code",
   "execution_count": 134,
   "metadata": {},
   "outputs": [
    {
     "name": "stdout",
     "output_type": "stream",
     "text": [
      "[27.65957447 19.92513369 35.29411765]\n",
      "Ttest_indResult(statistic=-1.2851046820041097, pvalue=0.1995531029570785)\n",
      "Ttest_indResult(statistic=1.5929489788272082, pvalue=0.11201866510360681)\n",
      "Ttest_indResult(statistic=2.884477743418379, pvalue=0.004148834623580341)\n",
      "[89.94708995 61.27683616 79.89417989]\n",
      "Ttest_indResult(statistic=-6.37557178911816, pvalue=5.526448851453627e-10)\n",
      "Ttest_indResult(statistic=-2.750962851470278, pvalue=0.006229445374752534)\n",
      "Ttest_indResult(statistic=2.884477743418379, pvalue=0.004148834623580341)\n"
     ]
    },
    {
     "name": "stderr",
     "output_type": "stream",
     "text": [
      "<ipython-input-134-797dae9103e5>:53: UserWarning: This figure was using constrained_layout, but that is incompatible with subplots_adjust and/or tight_layout; disabling constrained_layout.\n",
      "  fig2.tight_layout(pad=2)\n"
     ]
    },
    {
     "data": {
      "image/png": "[encoded data removed]",
      "text/plain": [
       "<Figure size 1296x648 with 2 Axes>"
      ]
     },
     "metadata": {
      "needs_background": "light"
     },
     "output_type": "display_data"
    }
   ],
   "source": [
    "fig2 = plt.figure(constrained_layout=True, figsize=(18,9))\n",
    "spec2 = gridspec.GridSpec(ncols=2, nrows=1, figure=fig2)\n",
    "\n",
    "l_c = df[df.condicao=='C']['resposta'].replace(['s', 'n'], [1, 0]).values\n",
    "l_e = df[df.condicao=='E']['resposta'].replace(['s', 'n'], [1, 0]).values\n",
    "l_sce = df[df.condicao=='S_CE']['resposta'].replace(['s', 'n'], [1, 0]).values\n",
    "l_ace = df[df.condicao=='A_CE']['resposta'].replace(['s', 'n'], [1, 0]).values\n",
    "l_sec = df[df.condicao=='S_EC']['resposta'].replace(['s', 'n'], [1, 0]).values\n",
    "l_aec = df[df.condicao=='A_EC']['resposta'].replace(['s', 'n'], [1, 0]).values\n",
    "\n",
    "f=21\n",
    "f2_ax2 = fig2.add_subplot(spec2[0, 0])\n",
    "heights = np.array([l_e.mean()*100, l_ace.mean()*100-2, l_sce.mean()*100])\n",
    "print(heights)\n",
    "yerr = [sps.stats.sem(l_e*100), sps.stats.sem(l_sce*100), sps.stats.sem(l_ace*100)]\n",
    "plt.bar([0,1,2], heights ,  color=['tab:green', 'tab:red', 'tab:blue'], yerr=yerr, lw=10, alpha=.95)\n",
    "plt.xticks([0,1,2], labels=['AG', 'G/AG', ' G/AG '], fontsize=21)\n",
    "\n",
    "barplot_annotate_brackets(0, 1, stats.ttest_ind(l_ace, l_e)[1], np.array([0,1,2]), heights+13, fs=f)\n",
    "print(stats.ttest_ind(l_ace, l_e))\n",
    "barplot_annotate_brackets(0, 2, stats.ttest_ind(l_sce, l_e)[1], np.array([0,1,2]), heights+18, fs=f)\n",
    "print(stats.ttest_ind(l_sce, l_e))\n",
    "barplot_annotate_brackets(1, 2, stats.ttest_ind(l_sce, l_ace)[1], np.array([0,1,2]), heights+7, fs=f)\n",
    "print(stats.ttest_ind(l_sce, l_ace))\n",
    "\n",
    "plt.ylim(0,110)\n",
    "plt.yticks(np.arange(0,120,20), fontsize=18)\n",
    "plt.ylabel('%', fontsize=24)\n",
    "\n",
    "\n",
    "f2_ax2 = fig2.add_subplot(spec2[0, 1])\n",
    "plt.ylim(0,110)\n",
    "plt.yticks([])\n",
    "yerr = [sps.stats.sem(l_c*100), sps.stats.sem(l_sec*100), sps.stats.sem(l_aec*100)]\n",
    "heights = np.array([l_c.mean()*100, l_aec.mean()*100-2, l_sec.mean()*100])\n",
    "print(heights)\n",
    "plt.bar([0,1,2], [l_c.mean()*100, l_aec.mean()*100, l_sec.mean()*100],yerr=yerr,  color=['tab:green', 'tab:red', 'tab:blue'],  lw=10, alpha=.95)\n",
    "plt.xticks([0,1,2], labels=['G', 'AG/G', ' AG/G '], fontsize=21)\n",
    "barplot_annotate_brackets(0, 1, stats.ttest_ind(l_aec, l_c)[1], np.array([0,1,2]), heights+3, fs=f)\n",
    "print(stats.ttest_ind(l_aec, l_c))\n",
    "barplot_annotate_brackets(0, 2, stats.ttest_ind(l_sec, l_c)[1], np.array([0,1,2]), heights+7.5, fs=f)\n",
    "print(stats.ttest_ind(l_sec, l_c))\n",
    "barplot_annotate_brackets(1, 2, stats.ttest_ind(l_sce, l_ace)[1], np.array([0,1,2]), heights+3, fs=f)\n",
    "print(stats.ttest_ind(l_sce, l_ace))\n",
    "\n",
    "custom_lines = [Line2D([0], [0], color='tab:green', lw=4),\n",
    "                Line2D([0], [0], color='tab:red', lw=4),\n",
    "                Line2D([0], [0], color='tab:blue', lw=4)]\n",
    "plt.legend(custom_lines, ['Sem disfluência', 'Significado\\nDestoante', 'Significado\\nConsoante'], loc=(1.02,.8), fontsize=16)\n",
    "\n",
    "\n",
    "plt.suptitle('L-seleção', x=.45, y=1.07, fontsize=22)\n",
    "fig2.tight_layout(pad=2)\n",
    "#plt.savefig('14mar/L_sele.png', dpi=150, bbox_inches='tight')"
   ]
  },
  {
   "cell_type": "code",
   "execution_count": 135,
   "metadata": {},
   "outputs": [
    {
     "name": "stdout",
     "output_type": "stream",
     "text": [
      "[27.65957447 19.92513369 35.29411765]\n",
      "[89.94708995 61.27683616 79.89417989]\n"
     ]
    },
    {
     "name": "stderr",
     "output_type": "stream",
     "text": [
      "<ipython-input-135-5841dc95fbb2>:51: UserWarning: This figure was using constrained_layout, but that is incompatible with subplots_adjust and/or tight_layout; disabling constrained_layout.\n",
      "  fig2.tight_layout(pad=2)\n"
     ]
    },
    {
     "data": {
      "image/png": "[encoded data removed]",
      "text/plain": [
       "<Figure size 1296x864 with 2 Axes>"
      ]
     },
     "metadata": {
      "needs_background": "light"
     },
     "output_type": "display_data"
    }
   ],
   "source": [
    "fig2 = plt.figure(constrained_layout=True, figsize=(18,12))\n",
    "spec2 = gridspec.GridSpec(ncols=2, nrows=1, figure=fig2)\n",
    "\n",
    "l_c = df[df.condicao=='C']['resposta'].replace(['s', 'n'], [1, 0]).values\n",
    "l_e = df[df.condicao=='E']['resposta'].replace(['s', 'n'], [1, 0]).values\n",
    "l_sce = df[df.condicao=='S_CE']['resposta'].replace(['s', 'n'], [1, 0]).values\n",
    "l_ace = df[df.condicao=='A_CE']['resposta'].replace(['s', 'n'], [1, 0]).values\n",
    "l_sec = df[df.condicao=='S_EC']['resposta'].replace(['s', 'n'], [1, 0]).values\n",
    "l_aec = df[df.condicao=='A_EC']['resposta'].replace(['s', 'n'], [1, 0]).values\n",
    "\n",
    "f=21\n",
    "f2_ax2 = fig2.add_subplot(spec2[0, 0])\n",
    "heights = np.array([l_e.mean()*100, l_ace.mean()*100-2, l_sce.mean()*100])\n",
    "print(heights)\n",
    "yerr = [sps.stats.sem(l_e*100), sps.stats.sem(l_sce*100), sps.stats.sem(l_ace*100)]\n",
    "plt.bar([0,1,2], heights ,  color=['tab:green', 'tab:red', 'tab:blue'], yerr=yerr, capsize=10, lw=10, alpha=.95)\n",
    "plt.xticks([0,1,2], labels=['UNG', 'GRA / UNG', ' GRA / UNG '], fontsize=21)\n",
    "\n",
    "barplot_annotate_brackets(0, 1, stats.ttest_ind(l_ace, l_e)[1], np.array([0,1,2]), heights+4, fs=f)\n",
    "barplot_annotate_brackets(0, 2, stats.ttest_ind(l_sce, l_e)[1], np.array([0,1,2]), heights+12, fs=f)\n",
    "barplot_annotate_brackets(1, 2, stats.ttest_ind(l_sce, l_ace)[1], np.array([0,1,2]), heights+3, fs=f)\n",
    "\n",
    "plt.ylim(0,110)\n",
    "plt.yticks(np.arange(0,120,20), fontsize=18)\n",
    "plt.ylabel('Percentage judged grammatical', fontsize=20)\n",
    "custom_lines = [Line2D([0], [0], color='tab:green', lw=4),\n",
    "                Line2D([0], [0], color='tab:red', lw=4),\n",
    "                Line2D([0], [0], color='tab:blue', lw=4)]\n",
    "plt.legend(custom_lines, ['Fluent', 'Dissonant\\nmeaning', 'Consonant\\nmeaning'], loc=(.695,.81), fontsize=18)\n",
    "\n",
    "\n",
    "f2_ax2 = fig2.add_subplot(spec2[0, 1])\n",
    "plt.ylim(0,115)\n",
    "plt.yticks([])\n",
    "yerr = [sps.stats.sem(l_c*100), sps.stats.sem(l_sec*100), sps.stats.sem(l_aec*100)]\n",
    "heights = np.array([l_c.mean()*100, l_aec.mean()*100-2, l_sec.mean()*100])\n",
    "print(heights)\n",
    "plt.bar([0,1,2], [l_c.mean()*100, l_aec.mean()*100, l_sec.mean()*100],yerr=yerr, capsize=10,  color=['tab:green', 'tab:red', 'tab:blue'],  lw=10, alpha=.95)\n",
    "plt.xticks([0,1,2], labels=['GRA', 'UNG / GRA', ' UNG / GRA '], fontsize=21)\n",
    "barplot_annotate_brackets(0, 1, stats.ttest_ind(l_aec, l_c)[1], np.array([0,1,2]), heights+1, fs=f)\n",
    "barplot_annotate_brackets(0, 2, stats.ttest_ind(l_sec, l_c)[1], np.array([0,1,2]), heights+11, fs=f)\n",
    "barplot_annotate_brackets(1, 2, stats.ttest_ind(l_sce, l_ace)[1], np.array([0,1,2]), heights+3, fs=f)\n",
    "\n",
    "'''custom_lines = [Line2D([0], [0], color='tab:green', lw=4),\n",
    "                Line2D([0], [0], color='tab:red', lw=4),\n",
    "                Line2D([0], [0], color='tab:blue', lw=4)]\n",
    "plt.legend(custom_lines, ['Fluent', 'Dissonant\\nmeaning', 'Consonant\\nmeaning'], loc=(1.02,.76), fontsize=18)'''\n",
    "\n",
    "\n",
    "plt.suptitle('Lexical selection', x=.52, y=.97, fontsize=22)\n",
    "fig2.tight_layout(pad=2)\n",
    "#plt.savefig('14mar/L_sele_UNG_GRA.png', dpi=300, facecolor='white', bbox_inches='tight')"
   ]
  },
  {
   "cell_type": "markdown",
   "metadata": {},
   "source": [
    "## Tempos"
   ]
  },
  {
   "cell_type": "code",
   "execution_count": 219,
   "metadata": {},
   "outputs": [],
   "source": [
    "def tempo_rt(trecho,mark, savefig, ylim):\n",
    "    yerr = []\n",
    "    df = df_trans\n",
    "    conds = [*df.groupby('condicao').groups.keys()]\n",
    "    for name, group in df.groupby('condicao'):\n",
    "        yerr.append(sps.stats.sem(group[trecho+'.rt'].fillna(0)))\n",
    "    fig, ax = plt.subplots(figsize=(10,8))\n",
    "    plt.bar(df.groupby('condicao').groups.keys(), df.groupby('condicao')[trecho+'.rt'].mean().values, \\\n",
    "            color = ['tab:red', 'tab:red', 'tab:green', 'tab:green', 'tab:blue', 'tab:blue'], \\\n",
    "           yerr = yerr, align='center', capsize=6)\n",
    "    \n",
    "    plt.title('Trecho '+trecho)\n",
    "    plt.xticks(np.arange(6), labels=['CE', 'EC', 'C', 'E', 'CE', 'EC'])\n",
    "    plt.ylabel('s')\n",
    "    if (ylim==0):\n",
    "        plt.ylim(0,1.2)\n",
    "    else:\n",
    "        plt.ylim(0,ylim)\n",
    "    custom_lines = [Line2D([0], [0], color='tab:green', lw=4),\n",
    "                    Line2D([0], [0], color='tab:red', lw=4),\n",
    "                    Line2D([0], [0], color='tab:blue', lw=4)]\n",
    "    for  i in range(len(mark)):\n",
    "        a1 = df.groupby('condicao').get_group(conds[mark[i][0]])[trecho+'.rt'].dropna(0)\n",
    "        a2 = df.groupby('condicao').get_group(conds[mark[i][1]])[trecho+'.rt'].dropna(0)\n",
    "        barplot_annotate_brackets(mark[i][0], mark[i][1], stats.ttest_ind(a1, a2)[1], np.arange(len(conds)), df.groupby('condicao')[trecho+'.rt'].mean().values+.07)\n",
    "        print(stats.ttest_ind(a1, a2)[1])\n",
    "    plt.legend(custom_lines, ['Sem disfluência', 'Verbos de significado\\ndestoante', 'Verbos de significado\\nconsoante'], loc=(1.02,.84))\n",
    "    if (savefig):\n",
    "        plt.savefig('Tempos/'+trecho+'.png', bbox_inches='tight')"
   ]
  },
  {
   "cell_type": "code",
   "execution_count": 220,
   "metadata": {},
   "outputs": [],
   "source": [
    "conds = [*df.groupby('condicao').groups.keys()]"
   ]
  },
  {
   "cell_type": "code",
   "execution_count": 221,
   "metadata": {},
   "outputs": [],
   "source": [
    "mark = [[0,1]]\n"
   ]
  },
  {
   "cell_type": "code",
   "execution_count": 222,
   "metadata": {},
   "outputs": [],
   "source": [
    "a1 = df[df.condicao=='S_CE']['A.rt'].dropna()\n",
    "a2 = df[df.condicao=='S_EC']['A.rt'].dropna()"
   ]
  },
  {
   "cell_type": "code",
   "execution_count": 223,
   "metadata": {},
   "outputs": [
    {
     "data": {
      "text/plain": [
       "F_onewayResult(statistic=1.3096890219028943, pvalue=0.2574358578971055)"
      ]
     },
     "execution_count": 223,
     "metadata": {},
     "output_type": "execute_result"
    }
   ],
   "source": [
    "a = [group['A.rt'].fillna(0).values.tolist() for name, group in df.groupby('condicao')]\n",
    "stats.f_oneway(a[0], a[1], a[2], a[3], a[4], a[5])"
   ]
  },
  {
   "cell_type": "code",
   "execution_count": 224,
   "metadata": {
    "scrolled": false
   },
   "outputs": [
    {
     "name": "stdout",
     "output_type": "stream",
     "text": [
      "0.2574989671138721\n",
      "0.8501757441484566\n",
      "0.2396935095222206\n"
     ]
    },
    {
     "data": {
      "image/png": "[encoded data removed]",
      "text/plain": [
       "<Figure size 720x576 with 1 Axes>"
      ]
     },
     "metadata": {
      "needs_background": "light"
     },
     "output_type": "display_data"
    }
   ],
   "source": [
    "tempo_rt('A',[[0,1],[2, 3], [4,5]], False, 1.4)"
   ]
  },
  {
   "cell_type": "code",
   "execution_count": 225,
   "metadata": {},
   "outputs": [
    {
     "data": {
      "text/plain": [
       "0.085"
      ]
     },
     "execution_count": 225,
     "metadata": {},
     "output_type": "execute_result"
    }
   ],
   "source": [
    "a1 = df[df.condicao=='S_CE']['B.rt'].dropna(0)\n",
    "a2 = df[df.condicao=='S_EC']['B.rt'].dropna(0)\n",
    "stats.ttest_ind(a1, a2)[1].round(3)"
   ]
  },
  {
   "cell_type": "code",
   "execution_count": 226,
   "metadata": {},
   "outputs": [
    {
     "data": {
      "text/html": [
       "<div>\n",
       "<style scoped>\n",
       "    .dataframe tbody tr th:only-of-type {\n",
       "        vertical-align: middle;\n",
       "    }\n",
       "\n",
       "    .dataframe tbody tr th {\n",
       "        vertical-align: top;\n",
       "    }\n",
       "\n",
       "    .dataframe thead th {\n",
       "        text-align: right;\n",
       "    }\n",
       "</style>\n",
       "<table border=\"1\" class=\"dataframe\">\n",
       "  <thead>\n",
       "    <tr style=\"text-align: right;\">\n",
       "      <th></th>\n",
       "      <th>A.rt</th>\n",
       "      <th>B.rt</th>\n",
       "      <th>C.rt</th>\n",
       "      <th>quest.rt</th>\n",
       "      <th>frase</th>\n",
       "      <th>resposta</th>\n",
       "      <th>condicao</th>\n",
       "      <th>participant</th>\n",
       "      <th>disfluency</th>\n",
       "    </tr>\n",
       "  </thead>\n",
       "  <tbody>\n",
       "    <tr>\n",
       "      <th>14</th>\n",
       "      <td>0.567690</td>\n",
       "      <td>0.123190</td>\n",
       "      <td>0.685325</td>\n",
       "      <td>2.271780</td>\n",
       "      <td>L_98</td>\n",
       "      <td>n</td>\n",
       "      <td>S_EC</td>\n",
       "      <td>Rafael Abel F G dos Santos</td>\n",
       "      <td>1</td>\n",
       "    </tr>\n",
       "    <tr>\n",
       "      <th>16</th>\n",
       "      <td>17.257760</td>\n",
       "      <td>0.416025</td>\n",
       "      <td>0.434370</td>\n",
       "      <td>0.989780</td>\n",
       "      <td>L_38</td>\n",
       "      <td>n</td>\n",
       "      <td>S_EC</td>\n",
       "      <td>Rafael Abel F G dos Santos</td>\n",
       "      <td>1</td>\n",
       "    </tr>\n",
       "    <tr>\n",
       "      <th>42</th>\n",
       "      <td>0.303340</td>\n",
       "      <td>0.289505</td>\n",
       "      <td>2.160755</td>\n",
       "      <td>1.325870</td>\n",
       "      <td>L_140</td>\n",
       "      <td>s</td>\n",
       "      <td>S_EC</td>\n",
       "      <td>Rafael Abel F G dos Santos</td>\n",
       "      <td>1</td>\n",
       "    </tr>\n",
       "    <tr>\n",
       "      <th>12</th>\n",
       "      <td>2.043485</td>\n",
       "      <td>0.723385</td>\n",
       "      <td>1.227840</td>\n",
       "      <td>0.232850</td>\n",
       "      <td>L_74</td>\n",
       "      <td>s</td>\n",
       "      <td>S_EC</td>\n",
       "      <td>Laira</td>\n",
       "      <td>1</td>\n",
       "    </tr>\n",
       "    <tr>\n",
       "      <th>13</th>\n",
       "      <td>0.560070</td>\n",
       "      <td>0.141795</td>\n",
       "      <td>0.602105</td>\n",
       "      <td>0.643085</td>\n",
       "      <td>L_26</td>\n",
       "      <td>s</td>\n",
       "      <td>S_EC</td>\n",
       "      <td>Laira</td>\n",
       "      <td>1</td>\n",
       "    </tr>\n",
       "    <tr>\n",
       "      <th>...</th>\n",
       "      <td>...</td>\n",
       "      <td>...</td>\n",
       "      <td>...</td>\n",
       "      <td>...</td>\n",
       "      <td>...</td>\n",
       "      <td>...</td>\n",
       "      <td>...</td>\n",
       "      <td>...</td>\n",
       "      <td>...</td>\n",
       "    </tr>\n",
       "    <tr>\n",
       "      <th>12</th>\n",
       "      <td>0.436485</td>\n",
       "      <td>0.566950</td>\n",
       "      <td>0.811235</td>\n",
       "      <td>1.154295</td>\n",
       "      <td>L_74</td>\n",
       "      <td>s</td>\n",
       "      <td>S_EC</td>\n",
       "      <td>Arthur Jordão</td>\n",
       "      <td>1</td>\n",
       "    </tr>\n",
       "    <tr>\n",
       "      <th>13</th>\n",
       "      <td>0.383150</td>\n",
       "      <td>0.938905</td>\n",
       "      <td>0.383375</td>\n",
       "      <td>10.348165</td>\n",
       "      <td>L_26</td>\n",
       "      <td>s</td>\n",
       "      <td>S_EC</td>\n",
       "      <td>Arthur Jordão</td>\n",
       "      <td>1</td>\n",
       "    </tr>\n",
       "    <tr>\n",
       "      <th>14</th>\n",
       "      <td>1.423385</td>\n",
       "      <td>0.971135</td>\n",
       "      <td>4.047525</td>\n",
       "      <td>0.802825</td>\n",
       "      <td>L_98</td>\n",
       "      <td>s</td>\n",
       "      <td>S_EC</td>\n",
       "      <td>Clayton_2811</td>\n",
       "      <td>1</td>\n",
       "    </tr>\n",
       "    <tr>\n",
       "      <th>16</th>\n",
       "      <td>0.416835</td>\n",
       "      <td>0.732305</td>\n",
       "      <td>1.130660</td>\n",
       "      <td>8.390975</td>\n",
       "      <td>L_38</td>\n",
       "      <td>s</td>\n",
       "      <td>S_EC</td>\n",
       "      <td>Clayton_2811</td>\n",
       "      <td>1</td>\n",
       "    </tr>\n",
       "    <tr>\n",
       "      <th>42</th>\n",
       "      <td>0.359725</td>\n",
       "      <td>0.459160</td>\n",
       "      <td>3.278120</td>\n",
       "      <td>0.800990</td>\n",
       "      <td>L_140</td>\n",
       "      <td>s</td>\n",
       "      <td>S_EC</td>\n",
       "      <td>Clayton_2811</td>\n",
       "      <td>1</td>\n",
       "    </tr>\n",
       "  </tbody>\n",
       "</table>\n",
       "<p>168 rows × 9 columns</p>\n",
       "</div>"
      ],
      "text/plain": [
       "         A.rt      B.rt      C.rt   quest.rt  frase resposta condicao  \\\n",
       "14   0.567690  0.123190  0.685325   2.271780   L_98        n     S_EC   \n",
       "16  17.257760  0.416025  0.434370   0.989780   L_38        n     S_EC   \n",
       "42   0.303340  0.289505  2.160755   1.325870  L_140        s     S_EC   \n",
       "12   2.043485  0.723385  1.227840   0.232850   L_74        s     S_EC   \n",
       "13   0.560070  0.141795  0.602105   0.643085   L_26        s     S_EC   \n",
       "..        ...       ...       ...        ...    ...      ...      ...   \n",
       "12   0.436485  0.566950  0.811235   1.154295   L_74        s     S_EC   \n",
       "13   0.383150  0.938905  0.383375  10.348165   L_26        s     S_EC   \n",
       "14   1.423385  0.971135  4.047525   0.802825   L_98        s     S_EC   \n",
       "16   0.416835  0.732305  1.130660   8.390975   L_38        s     S_EC   \n",
       "42   0.359725  0.459160  3.278120   0.800990  L_140        s     S_EC   \n",
       "\n",
       "                   participant  disfluency  \n",
       "14  Rafael Abel F G dos Santos           1  \n",
       "16  Rafael Abel F G dos Santos           1  \n",
       "42  Rafael Abel F G dos Santos           1  \n",
       "12                       Laira           1  \n",
       "13                       Laira           1  \n",
       "..                         ...         ...  \n",
       "12               Arthur Jordão           1  \n",
       "13               Arthur Jordão           1  \n",
       "14                Clayton_2811           1  \n",
       "16                Clayton_2811           1  \n",
       "42                Clayton_2811           1  \n",
       "\n",
       "[168 rows x 9 columns]"
      ]
     },
     "execution_count": 226,
     "metadata": {},
     "output_type": "execute_result"
    }
   ],
   "source": [
    "df[df.condicao=='S_EC']"
   ]
  },
  {
   "cell_type": "code",
   "execution_count": 227,
   "metadata": {},
   "outputs": [
    {
     "data": {
      "text/plain": [
       "array([0.050845, 0.073855, 0.092   , 0.118835, 0.12319 , 0.12923 ,\n",
       "       0.13351 , 0.141795, 0.207165, 0.225895, 0.249155, 0.258835,\n",
       "       0.279885, 0.289505, 0.294385, 0.30144 , 0.30527 , 0.32021 ,\n",
       "       0.334   , 0.342495, 0.34351 , 0.35146 , 0.355045, 0.355555,\n",
       "       0.356005, 0.36205 , 0.368235, 0.380125, 0.39422 , 0.39932 ,\n",
       "       0.401825, 0.409355, 0.416025, 0.419695, 0.423305, 0.433925,\n",
       "       0.43972 , 0.4408  , 0.44115 , 0.44522 , 0.45229 , 0.455375,\n",
       "       0.45916 , 0.461105, 0.4673  , 0.474045, 0.477945, 0.484065,\n",
       "       0.489   , 0.503   , 0.509   , 0.54    , 0.54552 , 0.557325,\n",
       "       0.56695 , 0.56784 , 0.5695  , 0.573985, 0.57706 , 0.585   ,\n",
       "       0.594605, 0.60227 , 0.610845, 0.611175, 0.61673 , 0.62021 ,\n",
       "       0.621165, 0.63213 , 0.63992 , 0.6454  , 0.651275, 0.65143 ,\n",
       "       0.65644 , 0.65909 , 0.664   , 0.66982 , 0.6779  , 0.685   ,\n",
       "       0.68644 , 0.701535, 0.701845, 0.702575, 0.70381 , 0.703865,\n",
       "       0.70654 , 0.711155, 0.723385, 0.727   , 0.732305, 0.738   ,\n",
       "       0.750455, 0.762755, 0.7638  , 0.77288 , 0.78128 , 0.78347 ,\n",
       "       0.80173 , 0.803195, 0.814255, 0.825165, 0.841285, 0.844355,\n",
       "       0.850225, 0.867935, 0.891705, 0.90593 , 0.923   , 0.934725,\n",
       "       0.938905, 0.956465, 0.96    , 0.960595, 0.96075 , 0.966685,\n",
       "       0.96817 , 0.97023 , 0.971135, 0.9768  , 0.985165, 0.99967 ,\n",
       "       1.02    , 1.024845, 1.05614 , 1.058085, 1.06176 , 1.077845,\n",
       "       1.0801  , 1.082   , 1.092735, 1.11763 , 1.143385, 1.200145,\n",
       "       1.22685 , 1.253215, 1.25323 , 1.255885, 1.25958 , 1.283395,\n",
       "       1.297045, 1.31494 , 1.34814 , 1.36782 , 1.37587 , 1.38803 ,\n",
       "       1.417705, 1.52665 , 1.6192  , 1.64504 , 1.655555, 1.670305,\n",
       "       1.71894 , 1.76681 , 1.776   , 1.789485, 1.84119 , 1.843185,\n",
       "       1.92947 , 1.93011 , 2.0195  , 2.09009 , 2.10512 , 2.275215,\n",
       "       2.38799 , 2.610385, 2.883485, 3.39291 , 3.703265, 8.69147 ])"
      ]
     },
     "execution_count": 227,
     "metadata": {},
     "output_type": "execute_result"
    }
   ],
   "source": [
    "np.sort(df[df.condicao=='S_EC']['B.rt'])"
   ]
  },
  {
   "cell_type": "code",
   "execution_count": 237,
   "metadata": {},
   "outputs": [
    {
     "name": "stdout",
     "output_type": "stream",
     "text": [
      "0.8118811949229016\n",
      "0.827300616783928\n",
      "0.5192426216503925\n"
     ]
    },
    {
     "data": {
      "image/png": "[encoded data removed]",
      "text/plain": [
       "<Figure size 720x576 with 1 Axes>"
      ]
     },
     "metadata": {
      "needs_background": "light"
     },
     "output_type": "display_data"
    }
   ],
   "source": [
    "tempo_rt('B', [[0,1],[2,3], [4,5]], False, 1.4)"
   ]
  },
  {
   "cell_type": "code",
   "execution_count": 231,
   "metadata": {},
   "outputs": [],
   "source": [
    "a1 = df[df.condicao=='S_CE']['C.rt'].dropna(0)\n",
    "a2 = df[df.condicao=='S_EC']['C.rt'].dropna(0)"
   ]
  },
  {
   "cell_type": "code",
   "execution_count": 232,
   "metadata": {},
   "outputs": [
    {
     "data": {
      "text/plain": [
       "0.1"
      ]
     },
     "execution_count": 232,
     "metadata": {},
     "output_type": "execute_result"
    }
   ],
   "source": [
    "np.round(stats.ttest_ind(a1, a2)[1], 3)"
   ]
  },
  {
   "cell_type": "code",
   "execution_count": 549,
   "metadata": {},
   "outputs": [
    {
     "data": {
      "text/plain": [
       "Text(0.5, 1.0, 'C')"
      ]
     },
     "execution_count": 549,
     "metadata": {},
     "output_type": "execute_result"
    },
    {
     "data": {
      "image/png": "[encoded data removed]",
      "text/plain": [
       "<Figure size 432x288 with 1 Axes>"
      ]
     },
     "metadata": {
      "needs_background": "light"
     },
     "output_type": "display_data"
    }
   ],
   "source": [
    "df.boxplot(column=['C.rt'],by='condicao')\n",
    "plt.title('C')"
   ]
  },
  {
   "cell_type": "code",
   "execution_count": 550,
   "metadata": {},
   "outputs": [
    {
     "data": {
      "text/plain": [
       "Text(0.5, 1.0, 'Online\\n\\nC')"
      ]
     },
     "execution_count": 550,
     "metadata": {},
     "output_type": "execute_result"
    },
    {
     "data": {
      "image/png": "[encoded data removed]",
      "text/plain": [
       "<Figure size 432x288 with 1 Axes>"
      ]
     },
     "metadata": {
      "needs_background": "light"
     },
     "output_type": "display_data"
    }
   ],
   "source": [
    "plt.bar(df.groupby('condicao').groups.keys(), df.groupby('condicao')['C.rt'].mean().values)\n",
    "plt.title('C')\n",
    "plt.ylabel('s')\n",
    "plt.title('Online\\n\\nC')\n",
    "#plt.savefig('Rt.C.Online.png', bbox_inches='tight')"
   ]
  },
  {
   "cell_type": "code",
   "execution_count": 551,
   "metadata": {},
   "outputs": [
    {
     "data": {
      "text/plain": [
       "<BarContainer object of 4 artists>"
      ]
     },
     "execution_count": 551,
     "metadata": {},
     "output_type": "execute_result"
    },
    {
     "data": {
      "image/png": "[encoded data removed]",
      "text/plain": [
       "<Figure size 432x288 with 1 Axes>"
      ]
     },
     "metadata": {
      "needs_background": "light"
     },
     "output_type": "display_data"
    }
   ],
   "source": [
    "plt.bar(df_y.groupby('condicao').groups.keys(), df_y.groupby('condicao')['C.rt'].mean().values)\n",
    "#plt.savefig('Rt.C.Grouped_Online.png', bbox_inches='tight')"
   ]
  },
  {
   "cell_type": "markdown",
   "metadata": {},
   "source": [
    "## Tempo - Resposta"
   ]
  },
  {
   "cell_type": "code",
   "execution_count": 403,
   "metadata": {},
   "outputs": [
    {
     "data": {
      "text/plain": [
       "Text(0.5, 0.98, '')"
      ]
     },
     "execution_count": 403,
     "metadata": {},
     "output_type": "execute_result"
    },
    {
     "data": {
      "image/png": "[encoded data removed]",
      "text/plain": [
       "<Figure size 432x288 with 1 Axes>"
      ]
     },
     "metadata": {
      "needs_background": "light"
     },
     "output_type": "display_data"
    }
   ],
   "source": [
    "df.boxplot(column=['quest.rt'],by='condicao')\n",
    "plt.title('Resposta - online')\n",
    "plt.suptitle('')\n",
    "#plt.savefig('Resposta_boxplot_casa.png', bbox_inches='tight')"
   ]
  },
  {
   "cell_type": "code",
   "execution_count": 488,
   "metadata": {},
   "outputs": [
    {
     "data": {
      "text/html": [
       "<div>\n",
       "<style scoped>\n",
       "    .dataframe tbody tr th:only-of-type {\n",
       "        vertical-align: middle;\n",
       "    }\n",
       "\n",
       "    .dataframe tbody tr th {\n",
       "        vertical-align: top;\n",
       "    }\n",
       "\n",
       "    .dataframe thead th {\n",
       "        text-align: right;\n",
       "    }\n",
       "</style>\n",
       "<table border=\"1\" class=\"dataframe\">\n",
       "  <thead>\n",
       "    <tr style=\"text-align: right;\">\n",
       "      <th></th>\n",
       "      <th>A.rt</th>\n",
       "      <th>B.rt</th>\n",
       "      <th>C.rt</th>\n",
       "      <th>quest.rt</th>\n",
       "      <th>frase</th>\n",
       "      <th>resposta</th>\n",
       "      <th>condicao</th>\n",
       "      <th>participant</th>\n",
       "    </tr>\n",
       "  </thead>\n",
       "  <tbody>\n",
       "  </tbody>\n",
       "</table>\n",
       "</div>"
      ],
      "text/plain": [
       "Empty DataFrame\n",
       "Columns: [A.rt, B.rt, C.rt, quest.rt, frase, resposta, condicao, participant]\n",
       "Index: []"
      ]
     },
     "execution_count": 488,
     "metadata": {},
     "output_type": "execute_result"
    }
   ],
   "source": [
    "df[df['quest.rt']>60]"
   ]
  },
  {
   "cell_type": "code",
   "execution_count": 422,
   "metadata": {},
   "outputs": [
    {
     "name": "stderr",
     "output_type": "stream",
     "text": [
      "/home/leozeine/anaconda3/lib/python3.7/site-packages/ipykernel_launcher.py:1: SettingWithCopyWarning: \n",
      "A value is trying to be set on a copy of a slice from a DataFrame.\n",
      "Try using .loc[row_indexer,col_indexer] = value instead\n",
      "\n",
      "See the caveats in the documentation: https://pandas.pydata.org/pandas-docs/stable/user_guide/indexing.html#returning-a-view-versus-a-copy\n",
      "  \"\"\"Entry point for launching an IPython kernel.\n",
      "/home/leozeine/anaconda3/lib/python3.7/site-packages/pandas/core/indexing.py:965: SettingWithCopyWarning: \n",
      "A value is trying to be set on a copy of a slice from a DataFrame.\n",
      "Try using .loc[row_indexer,col_indexer] = value instead\n",
      "\n",
      "See the caveats in the documentation: https://pandas.pydata.org/pandas-docs/stable/user_guide/indexing.html#returning-a-view-versus-a-copy\n",
      "  self.obj[item] = s\n"
     ]
    }
   ],
   "source": [
    "df[df['quest.rt'] > df_sup['quest.rt'].quantile(0.995)] = np.NaN"
   ]
  }
 ],
 "metadata": {
  "kernelspec": {
   "display_name": "Python 3",
   "language": "python",
   "name": "python3"
  },
  "language_info": {
   "codemirror_mode": {
    "name": "ipython",
    "version": 3
   },
   "file_extension": ".py",
   "mimetype": "text/x-python",
   "name": "python",
   "nbconvert_exporter": "python",
   "pygments_lexer": "ipython3",
   "version": "3.8.10"
  }
 },
 "nbformat": 4,
 "nbformat_minor": 4
}
