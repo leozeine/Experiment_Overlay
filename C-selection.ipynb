{
 "cells": [
  {
   "cell_type": "code",
   "execution_count": 3,
   "metadata": {},
   "outputs": [],
   "source": [
    "import pandas as pd\n",
    "import numpy as np\n",
    "import matplotlib.pyplot as plt\n",
    "import os\n",
    "import glob\n",
    "import scipy as sps\n",
    "from scipy import stats\n",
    "import matplotlib.gridspec as gridspec\n",
    "from matplotlib.lines import Line2D"
   ]
  },
  {
   "cell_type": "code",
   "execution_count": 51,
   "metadata": {},
   "outputs": [],
   "source": [
    "df_list = [] \n",
    "a = ''\n",
    "for file in os.listdir('dados/c_selecao/'): \n",
    "    if (('.~lock' in file)==False):\n",
    "        if ('casa' in file):\n",
    "            df = pd.read_csv('Resultados_casa_611/C_sele/v_1/'+file).rename(columns = {'key_resp_11.rt':'A.rt', \\\n",
    "                                                                                'key_resp_12.rt' : 'B.rt', \\\n",
    "                                                                                'key_resp_13.rt':'C.rt', \\\n",
    "                                                                                'key_resp_15.keys': 'resposta', \\\n",
    "                                                                                'key_resp_15.rt':'quest.rt'}).iloc[12:-2, :]\n",
    "            \n",
    "            df_list.append(df) \n",
    "           \n",
    "        else:\n",
    "             df = pd.read_csv('dados/c_selecao/'+file).rename(columns = {'key_resp_11.rt':'A.rt', \\\n",
    "                                                                                'key_resp_12.rt' : 'B.rt', \\\n",
    "                                                                                'key_resp_13.rt':'C.rt', \\\n",
    "                                                                                'key_resp_15.keys': 'resposta', \\\n",
    "                                                                                'key_resp_15.rt':'quest.rt'}).iloc[4:-1, :]\n",
    "          \n",
    "             df_list.append(df) \n",
    "#final_df = df.append(df for df in df_list) \n",
    "#final_df.to_csv('final.csv', index=False) "
   ]
  },
  {
   "cell_type": "code",
   "execution_count": 52,
   "metadata": {},
   "outputs": [],
   "source": [
    "dfs_foco = pd.read_csv('preprocessed.csv').iloc[:, 1:]"
   ]
  },
  {
   "cell_type": "code",
   "execution_count": 53,
   "metadata": {},
   "outputs": [
    {
     "name": "stderr",
     "output_type": "stream",
     "text": [
      "<ipython-input-53-8b99ee40d3f9>:1: FutureWarning: Your version of xlrd is 1.2.0. In xlrd >= 2.0, only the xls format is supported. As a result, the openpyxl engine will be used if it is installed and the engine argument is not specified. Install openpyxl instead.\n",
      "  condicoes = pd.read_excel('Condicoes.xlsx')\n"
     ]
    }
   ],
   "source": [
    "condicoes = pd.read_excel('Condicoes.xlsx')\n",
    "condicoes['frase'] = ['C_'+str(i) for i in range(1,145)]"
   ]
  },
  {
   "cell_type": "code",
   "execution_count": 54,
   "metadata": {},
   "outputs": [
    {
     "data": {
      "text/html": [
       "<div>\n",
       "<style scoped>\n",
       "    .dataframe tbody tr th:only-of-type {\n",
       "        vertical-align: middle;\n",
       "    }\n",
       "\n",
       "    .dataframe tbody tr th {\n",
       "        vertical-align: top;\n",
       "    }\n",
       "\n",
       "    .dataframe thead th {\n",
       "        text-align: right;\n",
       "    }\n",
       "</style>\n",
       "<table border=\"1\" class=\"dataframe\">\n",
       "  <thead>\n",
       "    <tr style=\"text-align: right;\">\n",
       "      <th></th>\n",
       "      <th>condicoes</th>\n",
       "      <th>frase</th>\n",
       "    </tr>\n",
       "  </thead>\n",
       "  <tbody>\n",
       "    <tr>\n",
       "      <th>0</th>\n",
       "      <td>S_CE</td>\n",
       "      <td>C_1</td>\n",
       "    </tr>\n",
       "    <tr>\n",
       "      <th>1</th>\n",
       "      <td>S_EC</td>\n",
       "      <td>C_2</td>\n",
       "    </tr>\n",
       "    <tr>\n",
       "      <th>2</th>\n",
       "      <td>A_CE</td>\n",
       "      <td>C_3</td>\n",
       "    </tr>\n",
       "    <tr>\n",
       "      <th>3</th>\n",
       "      <td>A_EC</td>\n",
       "      <td>C_4</td>\n",
       "    </tr>\n",
       "    <tr>\n",
       "      <th>4</th>\n",
       "      <td>C</td>\n",
       "      <td>C_5</td>\n",
       "    </tr>\n",
       "    <tr>\n",
       "      <th>5</th>\n",
       "      <td>E</td>\n",
       "      <td>C_6</td>\n",
       "    </tr>\n",
       "  </tbody>\n",
       "</table>\n",
       "</div>"
      ],
      "text/plain": [
       "  condicoes frase\n",
       "0      S_CE   C_1\n",
       "1      S_EC   C_2\n",
       "2      A_CE   C_3\n",
       "3      A_EC   C_4\n",
       "4         C   C_5\n",
       "5         E   C_6"
      ]
     },
     "execution_count": 54,
     "metadata": {},
     "output_type": "execute_result"
    }
   ],
   "source": [
    "condicoes.iloc[:6, :]"
   ]
  },
  {
   "cell_type": "code",
   "execution_count": 55,
   "metadata": {},
   "outputs": [],
   "source": [
    "dfs = pd.concat([df[['participant', 'soundsA', 'A.rt', 'B.rt', 'C.rt', 'resposta', 'quest.rt']] for df in df_list])"
   ]
  },
  {
   "cell_type": "code",
   "execution_count": 56,
   "metadata": {},
   "outputs": [
    {
     "data": {
      "text/plain": [
       "(2803, 7)"
      ]
     },
     "execution_count": 56,
     "metadata": {},
     "output_type": "execute_result"
    }
   ],
   "source": [
    "dfs.shape"
   ]
  },
  {
   "cell_type": "code",
   "execution_count": 57,
   "metadata": {},
   "outputs": [],
   "source": [
    "def files(soundsA):\n",
    "    return soundsA[soundsA.index('/'):soundsA.index('A')]"
   ]
  },
  {
   "cell_type": "code",
   "execution_count": 58,
   "metadata": {},
   "outputs": [],
   "source": [
    "audio_files = [soundsA[soundsA.index('/')+1:soundsA.index('A')] for soundsA in dfs.soundsA.values]"
   ]
  },
  {
   "cell_type": "code",
   "execution_count": 59,
   "metadata": {},
   "outputs": [],
   "source": [
    "dfs['frase'] = audio_files"
   ]
  },
  {
   "cell_type": "code",
   "execution_count": 60,
   "metadata": {},
   "outputs": [],
   "source": [
    "treino = []\n",
    "for audio in audio_files:\n",
    "    if ('C' in audio):\n",
    "        treino.append('foco')\n",
    "    else:\n",
    "        treino.append('distratora')"
   ]
  },
  {
   "cell_type": "code",
   "execution_count": 61,
   "metadata": {},
   "outputs": [],
   "source": [
    "dfs['foco'] = treino"
   ]
  },
  {
   "cell_type": "code",
   "execution_count": 62,
   "metadata": {},
   "outputs": [
    {
     "data": {
      "text/html": [
       "<div>\n",
       "<style scoped>\n",
       "    .dataframe tbody tr th:only-of-type {\n",
       "        vertical-align: middle;\n",
       "    }\n",
       "\n",
       "    .dataframe tbody tr th {\n",
       "        vertical-align: top;\n",
       "    }\n",
       "\n",
       "    .dataframe thead th {\n",
       "        text-align: right;\n",
       "    }\n",
       "</style>\n",
       "<table border=\"1\" class=\"dataframe\">\n",
       "  <thead>\n",
       "    <tr style=\"text-align: right;\">\n",
       "      <th></th>\n",
       "      <th>participant</th>\n",
       "      <th>soundsA</th>\n",
       "      <th>A.rt</th>\n",
       "      <th>B.rt</th>\n",
       "      <th>C.rt</th>\n",
       "      <th>resposta</th>\n",
       "      <th>quest.rt</th>\n",
       "      <th>frase</th>\n",
       "      <th>foco</th>\n",
       "    </tr>\n",
       "  </thead>\n",
       "  <tbody>\n",
       "    <tr>\n",
       "      <th>12</th>\n",
       "      <td>Gabriel_teste</td>\n",
       "      <td>c_selecao_v1_wav/C_17A.wav</td>\n",
       "      <td>3.561946</td>\n",
       "      <td>0.843855</td>\n",
       "      <td>0.923700</td>\n",
       "      <td>s</td>\n",
       "      <td>5.012681</td>\n",
       "      <td>C_17</td>\n",
       "      <td>foco</td>\n",
       "    </tr>\n",
       "    <tr>\n",
       "      <th>13</th>\n",
       "      <td>Gabriel_teste</td>\n",
       "      <td>c_selecao_v1_wav/S_3A.wav</td>\n",
       "      <td>0.174023</td>\n",
       "      <td>0.228532</td>\n",
       "      <td>0.227010</td>\n",
       "      <td>s</td>\n",
       "      <td>2.339995</td>\n",
       "      <td>S_3</td>\n",
       "      <td>distratora</td>\n",
       "    </tr>\n",
       "    <tr>\n",
       "      <th>14</th>\n",
       "      <td>Gabriel_teste</td>\n",
       "      <td>c_selecao_v1_wav/C_79A.wav</td>\n",
       "      <td>0.722390</td>\n",
       "      <td>1.142884</td>\n",
       "      <td>1.149738</td>\n",
       "      <td>n</td>\n",
       "      <td>3.402495</td>\n",
       "      <td>C_79</td>\n",
       "      <td>foco</td>\n",
       "    </tr>\n",
       "    <tr>\n",
       "      <th>15</th>\n",
       "      <td>Gabriel_teste</td>\n",
       "      <td>c_selecao_v1_wav/D_7A.wav</td>\n",
       "      <td>0.195423</td>\n",
       "      <td>0.781601</td>\n",
       "      <td>1.114688</td>\n",
       "      <td>n</td>\n",
       "      <td>2.308383</td>\n",
       "      <td>D_7</td>\n",
       "      <td>distratora</td>\n",
       "    </tr>\n",
       "    <tr>\n",
       "      <th>16</th>\n",
       "      <td>Gabriel_teste</td>\n",
       "      <td>c_selecao_v1_wav/D_17A.wav</td>\n",
       "      <td>0.451732</td>\n",
       "      <td>0.676307</td>\n",
       "      <td>0.669188</td>\n",
       "      <td>s</td>\n",
       "      <td>3.243371</td>\n",
       "      <td>D_17</td>\n",
       "      <td>distratora</td>\n",
       "    </tr>\n",
       "  </tbody>\n",
       "</table>\n",
       "</div>"
      ],
      "text/plain": [
       "      participant                     soundsA      A.rt      B.rt      C.rt  \\\n",
       "12  Gabriel_teste  c_selecao_v1_wav/C_17A.wav  3.561946  0.843855  0.923700   \n",
       "13  Gabriel_teste   c_selecao_v1_wav/S_3A.wav  0.174023  0.228532  0.227010   \n",
       "14  Gabriel_teste  c_selecao_v1_wav/C_79A.wav  0.722390  1.142884  1.149738   \n",
       "15  Gabriel_teste   c_selecao_v1_wav/D_7A.wav  0.195423  0.781601  1.114688   \n",
       "16  Gabriel_teste  c_selecao_v1_wav/D_17A.wav  0.451732  0.676307  0.669188   \n",
       "\n",
       "   resposta  quest.rt frase        foco  \n",
       "12        s  5.012681  C_17        foco  \n",
       "13        s  2.339995   S_3  distratora  \n",
       "14        n  3.402495  C_79        foco  \n",
       "15        n  2.308383   D_7  distratora  \n",
       "16        s  3.243371  D_17  distratora  "
      ]
     },
     "execution_count": 62,
     "metadata": {},
     "output_type": "execute_result"
    }
   ],
   "source": [
    "dfs.head()"
   ]
  },
  {
   "cell_type": "code",
   "execution_count": 63,
   "metadata": {},
   "outputs": [
    {
     "data": {
      "text/plain": [
       "108"
      ]
     },
     "execution_count": 63,
     "metadata": {},
     "output_type": "execute_result"
    }
   ],
   "source": [
    "len(dfs[dfs.foco=='foco'].soundsA.unique())"
   ]
  },
  {
   "cell_type": "code",
   "execution_count": 64,
   "metadata": {},
   "outputs": [],
   "source": [
    "conds = []\n",
    "for frase in dfs[dfs.foco=='foco'].frase:\n",
    "    conds.append(condicoes[condicoes.frase==frase].condicoes.values[0])"
   ]
  },
  {
   "cell_type": "code",
   "execution_count": 65,
   "metadata": {},
   "outputs": [],
   "source": [
    "for name, group in dfs_foco.groupby('participant'):\n",
    "    group.to_csv('C_sele_23nov/'+name+'.csv')"
   ]
  },
  {
   "cell_type": "code",
   "execution_count": 66,
   "metadata": {},
   "outputs": [
    {
     "data": {
      "text/html": [
       "<div>\n",
       "<style scoped>\n",
       "    .dataframe tbody tr th:only-of-type {\n",
       "        vertical-align: middle;\n",
       "    }\n",
       "\n",
       "    .dataframe tbody tr th {\n",
       "        vertical-align: top;\n",
       "    }\n",
       "\n",
       "    .dataframe thead th {\n",
       "        text-align: right;\n",
       "    }\n",
       "</style>\n",
       "<table border=\"1\" class=\"dataframe\">\n",
       "  <thead>\n",
       "    <tr style=\"text-align: right;\">\n",
       "      <th></th>\n",
       "      <th>participant</th>\n",
       "      <th>soundsA</th>\n",
       "      <th>A.rt</th>\n",
       "      <th>B.rt</th>\n",
       "      <th>C.rt</th>\n",
       "      <th>resposta</th>\n",
       "      <th>quest.rt</th>\n",
       "      <th>frase</th>\n",
       "      <th>foco</th>\n",
       "      <th>condicao</th>\n",
       "    </tr>\n",
       "  </thead>\n",
       "  <tbody>\n",
       "    <tr>\n",
       "      <th>469</th>\n",
       "      <td>micreli_1611</td>\n",
       "      <td>c_selecao_v3_wav/C_29A.wav</td>\n",
       "      <td>2.074825</td>\n",
       "      <td>0.86595</td>\n",
       "      <td>0.449655</td>\n",
       "      <td>n</td>\n",
       "      <td>39.4777</td>\n",
       "      <td>C_29</td>\n",
       "      <td>foco</td>\n",
       "      <td>C</td>\n",
       "    </tr>\n",
       "  </tbody>\n",
       "</table>\n",
       "</div>"
      ],
      "text/plain": [
       "      participant                     soundsA      A.rt     B.rt      C.rt  \\\n",
       "469  micreli_1611  c_selecao_v3_wav/C_29A.wav  2.074825  0.86595  0.449655   \n",
       "\n",
       "    resposta  quest.rt frase  foco condicao  \n",
       "469        n   39.4777  C_29  foco        C  "
      ]
     },
     "execution_count": 66,
     "metadata": {},
     "output_type": "execute_result"
    }
   ],
   "source": [
    "dfs_foco[dfs_foco['quest.rt']==dfs_foco['quest.rt'].max()]"
   ]
  },
  {
   "cell_type": "code",
   "execution_count": 67,
   "metadata": {},
   "outputs": [
    {
     "data": {
      "text/html": [
       "<div>\n",
       "<style scoped>\n",
       "    .dataframe tbody tr th:only-of-type {\n",
       "        vertical-align: middle;\n",
       "    }\n",
       "\n",
       "    .dataframe tbody tr th {\n",
       "        vertical-align: top;\n",
       "    }\n",
       "\n",
       "    .dataframe thead th {\n",
       "        text-align: right;\n",
       "    }\n",
       "</style>\n",
       "<table border=\"1\" class=\"dataframe\">\n",
       "  <thead>\n",
       "    <tr style=\"text-align: right;\">\n",
       "      <th></th>\n",
       "      <th>participant</th>\n",
       "      <th>soundsA</th>\n",
       "      <th>A.rt</th>\n",
       "      <th>B.rt</th>\n",
       "      <th>C.rt</th>\n",
       "      <th>resposta</th>\n",
       "      <th>quest.rt</th>\n",
       "      <th>frase</th>\n",
       "      <th>foco</th>\n",
       "      <th>condicao</th>\n",
       "    </tr>\n",
       "  </thead>\n",
       "  <tbody>\n",
       "    <tr>\n",
       "      <th>0</th>\n",
       "      <td>Gabriel_teste</td>\n",
       "      <td>c_selecao_v1_wav/C_17A.wav</td>\n",
       "      <td>3.561946</td>\n",
       "      <td>0.843855</td>\n",
       "      <td>0.923700</td>\n",
       "      <td>s</td>\n",
       "      <td>5.012681</td>\n",
       "      <td>C_17</td>\n",
       "      <td>foco</td>\n",
       "      <td>C</td>\n",
       "    </tr>\n",
       "    <tr>\n",
       "      <th>1</th>\n",
       "      <td>Gabriel_teste</td>\n",
       "      <td>c_selecao_v1_wav/C_79A.wav</td>\n",
       "      <td>0.722390</td>\n",
       "      <td>1.142884</td>\n",
       "      <td>1.149738</td>\n",
       "      <td>n</td>\n",
       "      <td>3.402495</td>\n",
       "      <td>C_79</td>\n",
       "      <td>foco</td>\n",
       "      <td>S_CE</td>\n",
       "    </tr>\n",
       "    <tr>\n",
       "      <th>2</th>\n",
       "      <td>Gabriel_teste</td>\n",
       "      <td>c_selecao_v1_wav/C_118A.wav</td>\n",
       "      <td>1.025974</td>\n",
       "      <td>0.457798</td>\n",
       "      <td>0.469199</td>\n",
       "      <td>n</td>\n",
       "      <td>0.828542</td>\n",
       "      <td>C_118</td>\n",
       "      <td>foco</td>\n",
       "      <td>A_EC</td>\n",
       "    </tr>\n",
       "    <tr>\n",
       "      <th>3</th>\n",
       "      <td>Gabriel_teste</td>\n",
       "      <td>c_selecao_v1_wav/C_59A.wav</td>\n",
       "      <td>0.558070</td>\n",
       "      <td>0.495569</td>\n",
       "      <td>0.438686</td>\n",
       "      <td>s</td>\n",
       "      <td>3.592213</td>\n",
       "      <td>C_59</td>\n",
       "      <td>foco</td>\n",
       "      <td>C</td>\n",
       "    </tr>\n",
       "    <tr>\n",
       "      <th>4</th>\n",
       "      <td>Gabriel_teste</td>\n",
       "      <td>c_selecao_v1_wav/C_107A.wav</td>\n",
       "      <td>1.059711</td>\n",
       "      <td>0.698479</td>\n",
       "      <td>0.568666</td>\n",
       "      <td>s</td>\n",
       "      <td>1.830431</td>\n",
       "      <td>C_107</td>\n",
       "      <td>foco</td>\n",
       "      <td>C</td>\n",
       "    </tr>\n",
       "  </tbody>\n",
       "</table>\n",
       "</div>"
      ],
      "text/plain": [
       "     participant                      soundsA      A.rt      B.rt      C.rt  \\\n",
       "0  Gabriel_teste   c_selecao_v1_wav/C_17A.wav  3.561946  0.843855  0.923700   \n",
       "1  Gabriel_teste   c_selecao_v1_wav/C_79A.wav  0.722390  1.142884  1.149738   \n",
       "2  Gabriel_teste  c_selecao_v1_wav/C_118A.wav  1.025974  0.457798  0.469199   \n",
       "3  Gabriel_teste   c_selecao_v1_wav/C_59A.wav  0.558070  0.495569  0.438686   \n",
       "4  Gabriel_teste  c_selecao_v1_wav/C_107A.wav  1.059711  0.698479  0.568666   \n",
       "\n",
       "  resposta  quest.rt  frase  foco condicao  \n",
       "0        s  5.012681   C_17  foco        C  \n",
       "1        n  3.402495   C_79  foco     S_CE  \n",
       "2        n  0.828542  C_118  foco     A_EC  \n",
       "3        s  3.592213   C_59  foco        C  \n",
       "4        s  1.830431  C_107  foco        C  "
      ]
     },
     "execution_count": 67,
     "metadata": {},
     "output_type": "execute_result"
    }
   ],
   "source": [
    "dfs_foco.head()"
   ]
  },
  {
   "cell_type": "markdown",
   "metadata": {},
   "source": [
    "## Gram. Judgments"
   ]
  },
  {
   "cell_type": "code",
   "execution_count": 68,
   "metadata": {},
   "outputs": [],
   "source": [
    "def barplot_annotate_brackets(num1, num2, data, center, height, yerr=None, dh=.02, barh=.01, fs=None, maxasterix=4):\n",
    "    if type(data) is str:\n",
    "        text = data\n",
    "    else:\n",
    "        # * is p < 0.05\n",
    "        # ** is p < 0.005\n",
    "        # *** is p < 0.0005\n",
    "        # etc.\n",
    "        text = ''\n",
    "        p = .05\n",
    "        if (np.round(data, 3) == 0.051):\n",
    "            data = 0.05\n",
    "        while data <= p:\n",
    "            text += '*'\n",
    "            p /= 10.\n",
    "\n",
    "            if maxasterix and len(text) == maxasterix:\n",
    "                break\n",
    "        if (text=='****'):\n",
    "            text = '***'\n",
    "        if len(text) == 0:\n",
    "            text ='n.s.'\n",
    "    '''if (text!='n. s.'):\n",
    "        if (len(text)==1):\n",
    "            text='p ='+str(np.round(data, 3))+'\\n'+text\n",
    "        elif (len(text)==2):\n",
    "            text='p ='+str(np.round(data, 3))+'\\n'+text\n",
    "        elif (len(text)==3):\n",
    "            text='p < 0.0005'+str(np.round(data, 3))+text\n",
    "        '''\n",
    "    lx, ly = center[num1], height[num1]\n",
    "    rx, ry = center[num2], height[num2]\n",
    "\n",
    "    if yerr:\n",
    "        ly += yerr[num1]\n",
    "        ry += yerr[num2]\n",
    "\n",
    "    ax_y0, ax_y1 = plt.gca().get_ylim()\n",
    "    dh *= (ax_y1 - ax_y0)\n",
    "    barh *= (ax_y1 - ax_y0)\n",
    "\n",
    "    y = max(ly, ry) + dh\n",
    "\n",
    "    barx = [lx, lx, rx, rx]\n",
    "    bary = [y, y+barh, y+barh, y]\n",
    "    mid = ((lx+rx)/2, y+barh)\n",
    "\n",
    "    plt.plot(barx, bary, c='black')\n",
    "\n",
    "    kwargs = dict(ha='center', va='bottom')\n",
    "    if fs is not None:\n",
    "        kwargs['fontsize'] = fs\n",
    "\n",
    "    plt.text(*mid, text, **kwargs)"
   ]
  },
  {
   "cell_type": "code",
   "execution_count": 69,
   "metadata": {},
   "outputs": [],
   "source": [
    "df_time = pd.DataFrame(np.array([dfs_foco['A.rt'].values, dfs_foco['B.rt'], dfs_foco['C.rt']]).flatten(), columns=['time'])"
   ]
  },
  {
   "cell_type": "code",
   "execution_count": 70,
   "metadata": {},
   "outputs": [
    {
     "data": {
      "text/plain": [
       "<AxesSubplot:>"
      ]
     },
     "execution_count": 70,
     "metadata": {},
     "output_type": "execute_result"
    },
    {
     "data": {
      "image/png": "[encoded data removed]",
      "text/plain": [
       "<Figure size 432x288 with 1 Axes>"
      ]
     },
     "metadata": {
      "needs_background": "light"
     },
     "output_type": "display_data"
    }
   ],
   "source": [
    "df_time.boxplot(column=['time'])"
   ]
  },
  {
   "cell_type": "code",
   "execution_count": 71,
   "metadata": {},
   "outputs": [],
   "source": [
    "def disflu(condicao):\n",
    "    if (condicao=='E' or condicao=='C'):\n",
    "        return 0\n",
    "    else:\n",
    "        return 1"
   ]
  },
  {
   "cell_type": "code",
   "execution_count": 72,
   "metadata": {},
   "outputs": [],
   "source": [
    "def trans_participante(df):\n",
    "    dfs = []\n",
    "    for name, group in df.groupby('participant'):\n",
    "        dfx = group\n",
    "        for trecho in (['A.rt', 'B.rt', 'C.rt', 'quest.rt']):\n",
    "            mean = dfx[trecho].mean()\n",
    "            std =  dfx[trecho].std()\n",
    "            dfx.loc[dfx[trecho] > mean+std, trecho] = np.NaN\n",
    "        dfs.append(dfx)\n",
    "    return pd.concat(dfs)"
   ]
  },
  {
   "cell_type": "code",
   "execution_count": 73,
   "metadata": {},
   "outputs": [
    {
     "name": "stderr",
     "output_type": "stream",
     "text": [
      "<ipython-input-73-846c00aa2acf>:3: SettingWithCopyWarning: \n",
      "A value is trying to be set on a copy of a slice from a DataFrame.\n",
      "Try using .loc[row_indexer,col_indexer] = value instead\n",
      "\n",
      "See the caveats in the documentation: https://pandas.pydata.org/pandas-docs/stable/user_guide/indexing.html#returning-a-view-versus-a-copy\n",
      "  df_sup['frase'] = dfs_foco.frase\n",
      "<ipython-input-73-846c00aa2acf>:4: SettingWithCopyWarning: \n",
      "A value is trying to be set on a copy of a slice from a DataFrame.\n",
      "Try using .loc[row_indexer,col_indexer] = value instead\n",
      "\n",
      "See the caveats in the documentation: https://pandas.pydata.org/pandas-docs/stable/user_guide/indexing.html#returning-a-view-versus-a-copy\n",
      "  df_sup['resposta'] = dfs_foco.resposta\n",
      "<ipython-input-73-846c00aa2acf>:5: SettingWithCopyWarning: \n",
      "A value is trying to be set on a copy of a slice from a DataFrame.\n",
      "Try using .loc[row_indexer,col_indexer] = value instead\n",
      "\n",
      "See the caveats in the documentation: https://pandas.pydata.org/pandas-docs/stable/user_guide/indexing.html#returning-a-view-versus-a-copy\n",
      "  df_sup['condicao'] = dfs_foco.condicao\n",
      "<ipython-input-73-846c00aa2acf>:6: SettingWithCopyWarning: \n",
      "A value is trying to be set on a copy of a slice from a DataFrame.\n",
      "Try using .loc[row_indexer,col_indexer] = value instead\n",
      "\n",
      "See the caveats in the documentation: https://pandas.pydata.org/pandas-docs/stable/user_guide/indexing.html#returning-a-view-versus-a-copy\n",
      "  df_sup['participant'] = dfs_foco.participant\n",
      "<ipython-input-73-846c00aa2acf>:8: SettingWithCopyWarning: \n",
      "A value is trying to be set on a copy of a slice from a DataFrame.\n",
      "Try using .loc[row_indexer,col_indexer] = value instead\n",
      "\n",
      "See the caveats in the documentation: https://pandas.pydata.org/pandas-docs/stable/user_guide/indexing.html#returning-a-view-versus-a-copy\n",
      "  df['disfluency'] = df.condicao.apply(disflu)\n"
     ]
    }
   ],
   "source": [
    "df_sup = dfs_foco[['A.rt', 'B.rt', 'C.rt', 'quest.rt']]\n",
    "#df_sup[df_sup>3.84] = np.NaN\n",
    "df_sup['frase'] = dfs_foco.frase\n",
    "df_sup['resposta'] = dfs_foco.resposta\n",
    "df_sup['condicao'] = dfs_foco.condicao\n",
    "df_sup['participant'] = dfs_foco.participant\n",
    "df = df_sup\n",
    "df['disfluency'] = df.condicao.apply(disflu)"
   ]
  },
  {
   "cell_type": "code",
   "execution_count": 74,
   "metadata": {},
   "outputs": [],
   "source": [
    "disf = trans_participante(df[df.disfluency==1])"
   ]
  },
  {
   "cell_type": "code",
   "execution_count": 75,
   "metadata": {},
   "outputs": [],
   "source": [
    "ndisf = trans_participante(df[df.disfluency==0])"
   ]
  },
  {
   "cell_type": "code",
   "execution_count": 76,
   "metadata": {},
   "outputs": [],
   "source": [
    "df_trans = pd.concat([disf, ndisf])"
   ]
  },
  {
   "cell_type": "code",
   "execution_count": 54,
   "metadata": {
    "scrolled": false
   },
   "outputs": [
    {
     "name": "stdout",
     "output_type": "stream",
     "text": [
      "[23.52941176 10.59259259 36.24161074]\n",
      "[88.74172185 43.92592593 78.6163522 ]\n"
     ]
    },
    {
     "name": "stderr",
     "output_type": "stream",
     "text": [
      "<ipython-input-54-529df0037bf8>:47: UserWarning: This figure was using constrained_layout, but that is incompatible with subplots_adjust and/or tight_layout; disabling constrained_layout.\n",
      "  fig2.tight_layout(pad=2)\n"
     ]
    },
    {
     "data": {
      "image/png": "[encoded data removed]",
      "text/plain": [
       "<Figure size 1296x648 with 2 Axes>"
      ]
     },
     "metadata": {
      "needs_background": "light"
     },
     "output_type": "display_data"
    }
   ],
   "source": [
    "fig2 = plt.figure(constrained_layout=True, figsize=(18,9))\n",
    "spec2 = gridspec.GridSpec(ncols=2, nrows=1, figure=fig2)\n",
    "\n",
    "l_c = df[df.condicao=='C']['resposta'].replace(['s', 'n'], [1, 0]).values\n",
    "l_e = df[df.condicao=='E']['resposta'].replace(['s', 'n'], [1, 0]).values\n",
    "l_sce = df[df.condicao=='S_CE']['resposta'].replace(['s', 'n'], [1, 0]).values\n",
    "l_ace = df[df.condicao=='A_CE']['resposta'].replace(['s', 'n'], [1, 0]).values\n",
    "l_sec = df[df.condicao=='S_EC']['resposta'].replace(['s', 'n'], [1, 0]).values\n",
    "l_aec = df[df.condicao=='A_EC']['resposta'].replace(['s', 'n'], [1, 0]).values\n",
    "\n",
    "f=21\n",
    "f2_ax2 = fig2.add_subplot(spec2[0, 0])\n",
    "heights = np.array([l_e.mean()*100, l_ace.mean()*100-2, l_sce.mean()*100])\n",
    "print(heights)\n",
    "yerr = [sps.stats.sem(l_e*100), sps.stats.sem(l_sce*100), sps.stats.sem(l_ace*100)]\n",
    "plt.bar([0,1,2], heights ,  color=['tab:green', 'tab:red', 'tab:blue'], yerr=yerr, lw=10, alpha=.95)\n",
    "plt.xticks([0,1,2], labels=['AG', 'G/AG', ' G/AG '], fontsize=21)\n",
    "\n",
    "barplot_annotate_brackets(0, 1, stats.ttest_ind(l_ace, l_e)[1], np.array([0,1,2]), heights+13, fs=f)\n",
    "barplot_annotate_brackets(0, 2, stats.ttest_ind(l_sce, l_e)[1], np.array([0,1,2]), heights+18, fs=f)\n",
    "barplot_annotate_brackets(1, 2, stats.ttest_ind(l_sce, l_ace)[1], np.array([0,1,2]), heights+3, fs=f)\n",
    "\n",
    "plt.ylim(0,110)\n",
    "plt.yticks(np.arange(0,120,20), fontsize=18)\n",
    "plt.ylabel('%', fontsize=24)\n",
    "\n",
    "\n",
    "f2_ax2 = fig2.add_subplot(spec2[0, 1])\n",
    "plt.ylim(0,110)\n",
    "plt.yticks([])\n",
    "yerr = [sps.stats.sem(l_c*100), sps.stats.sem(l_sec*100), sps.stats.sem(l_aec*100)]\n",
    "heights = np.array([l_c.mean()*100, l_aec.mean()*100-2, l_sec.mean()*100])\n",
    "print(heights)\n",
    "plt.bar([0,1,2], [l_c.mean()*100, l_aec.mean()*100, l_sec.mean()*100],yerr=yerr,  color=['tab:green', 'tab:red', 'tab:blue'],  lw=10, alpha=.95)\n",
    "plt.xticks([0,1,2], labels=['G', 'AG/G', ' AG/G '], fontsize=21)\n",
    "barplot_annotate_brackets(0, 1, stats.ttest_ind(l_aec, l_c)[1], np.array([0,1,2]), heights+3, fs=f)\n",
    "barplot_annotate_brackets(0, 2, stats.ttest_ind(l_sec, l_c)[1], np.array([0,1,2]), heights+7.8, fs=f)\n",
    "barplot_annotate_brackets(1, 2, stats.ttest_ind(l_sce, l_ace)[1], np.array([0,1,2]), heights+3, fs=f)\n",
    "\n",
    "custom_lines = [Line2D([0], [0], color='tab:green', lw=4),\n",
    "                Line2D([0], [0], color='tab:red', lw=4),\n",
    "                Line2D([0], [0], color='tab:blue', lw=4)]\n",
    "plt.legend(custom_lines, ['Sem disfluência', 'Significado\\nDestoante', 'Significado\\nConsoante'], loc=(1.02,.8), fontsize=16)\n",
    "\n",
    "\n",
    "plt.suptitle('C-seleção', x=.45, y=1.07, fontsize=22)\n",
    "fig2.tight_layout(pad=2)\n",
    "#plt.savefig('14mar/C_sele_SEMRUINS.png', dpi=150, bbox_inches='tight')"
   ]
  },
  {
   "cell_type": "code",
   "execution_count": 77,
   "metadata": {},
   "outputs": [
    {
     "name": "stdout",
     "output_type": "stream",
     "text": [
      "Ttest_indResult(statistic=-2.35427794099849, pvalue=0.01927795225725536)\n",
      "Ttest_indResult(statistic=2.3496110394720184, pvalue=0.019480282395264868)\n",
      "Ttest_indResult(statistic=4.760630132159788, pvalue=3.088857558784005e-06)\n",
      "Ttest_indResult(statistic=-8.737027552195595, pvalue=2.11440406588129e-16)\n",
      "Ttest_indResult(statistic=-2.418371385460253, pvalue=0.016169913912263665)\n",
      "Ttest_indResult(statistic=4.760630132159788, pvalue=3.088857558784005e-06)\n"
     ]
    },
    {
     "name": "stderr",
     "output_type": "stream",
     "text": [
      "<ipython-input-77-961a184f3821>:55: UserWarning: This figure was using constrained_layout, but that is incompatible with subplots_adjust and/or tight_layout; disabling constrained_layout.\n",
      "  fig2.tight_layout(pad=2)\n"
     ]
    },
    {
     "data": {
      "image/png": "[encoded data removed]",
      "text/plain": [
       "<Figure size 1296x864 with 2 Axes>"
      ]
     },
     "metadata": {
      "needs_background": "light"
     },
     "output_type": "display_data"
    }
   ],
   "source": [
    "fig2 = plt.figure(constrained_layout=True, figsize=(18,12))\n",
    "spec2 = gridspec.GridSpec(ncols=2, nrows=1, figure=fig2)\n",
    "\n",
    "l_c = df[df.condicao=='C']['resposta'].replace(['s', 'n'], [1, 0]).values\n",
    "l_e = df[df.condicao=='E']['resposta'].replace(['s', 'n'], [1, 0]).values\n",
    "l_sce = df[df.condicao=='S_CE']['resposta'].replace(['s', 'n'], [1, 0]).values\n",
    "l_ace = df[df.condicao=='A_CE']['resposta'].replace(['s', 'n'], [1, 0]).values\n",
    "l_sec = df[df.condicao=='S_EC']['resposta'].replace(['s', 'n'], [1, 0]).values\n",
    "l_aec = df[df.condicao=='A_EC']['resposta'].replace(['s', 'n'], [1, 0]).values\n",
    "\n",
    "f=21\n",
    "f2_ax2 = fig2.add_subplot(spec2[0, 0])\n",
    "heights = np.array([l_e.mean()*100, l_ace.mean()*100-2, l_sce.mean()*100])\n",
    "yerr = [sps.stats.sem(l_e*100), sps.stats.sem(l_sce*100), sps.stats.sem(l_ace*100)]\n",
    "plt.bar([0,1,2], heights ,  color=['tab:green', 'tab:red', 'tab:blue'], yerr=yerr, capsize=10, lw=10, alpha=.95)\n",
    "plt.xticks([0,1,2], labels=['UNG', 'GRA / UNG', ' GRA / UNG '], fontsize=21)\n",
    "\n",
    "barplot_annotate_brackets(0, 1, stats.ttest_ind(l_ace, l_e)[1], np.array([0,1,2]), heights+10, fs=f)\n",
    "print(stats.ttest_ind(l_ace, l_e))\n",
    "barplot_annotate_brackets(0, 2, stats.ttest_ind(l_sce, l_e)[1], np.array([0,1,2]), heights+15, fs=f)\n",
    "print(stats.ttest_ind(l_sce, l_e))\n",
    "barplot_annotate_brackets(1, 2, stats.ttest_ind(l_sce, l_ace)[1], np.array([0,1,2]), heights+3, fs=f)\n",
    "print(stats.ttest_ind(l_sce, l_ace))\n",
    "\n",
    "\n",
    "plt.ylim(0,110)\n",
    "plt.yticks(np.arange(0,120,20), fontsize=18)\n",
    "plt.ylabel('Percentage judged grammatical', fontsize=20)\n",
    "custom_lines = [Line2D([0], [0], color='tab:green', lw=4),\n",
    "                Line2D([0], [0], color='tab:red', lw=4),\n",
    "                Line2D([0], [0], color='tab:blue', lw=4)]\n",
    "plt.legend(custom_lines, ['Fluent', 'Dissonant\\nmeaning', 'Consonant\\nmeaning'], loc=(.695,.81), fontsize=18)\n",
    "\n",
    "f2_ax2 = fig2.add_subplot(spec2[0, 1])\n",
    "plt.ylim(0,110)\n",
    "plt.yticks([])\n",
    "yerr = [sps.stats.sem(l_c*100), sps.stats.sem(l_sec*100), sps.stats.sem(l_aec*100)]\n",
    "heights = np.array([l_c.mean()*100, l_aec.mean()*100-2, l_sec.mean()*100])\n",
    "plt.bar([0,1,2], [l_c.mean()*100, l_aec.mean()*100, l_sec.mean()*100],yerr=yerr, capsize=10,color=['tab:green', 'tab:red', 'tab:blue'],  lw=10, alpha=.95)\n",
    "plt.xticks([0,1,2], labels=['GRA', 'UNG / GRA', ' UNG / GRA '], fontsize=21)\n",
    "barplot_annotate_brackets(0, 1, stats.ttest_ind(l_aec, l_c)[1], np.array([0,1,2]), heights+1, fs=f)\n",
    "print(stats.ttest_ind(l_aec, l_c))\n",
    "barplot_annotate_brackets(0, 2, stats.ttest_ind(l_sec, l_c)[1], np.array([0,1,2]), heights+8, fs=f)\n",
    "print(stats.ttest_ind(l_sec, l_c))\n",
    "barplot_annotate_brackets(1, 2, stats.ttest_ind(l_sce, l_ace)[1], np.array([0,1,2]), heights+3, fs=f)\n",
    "print(stats.ttest_ind(l_sce, l_ace))\n",
    "\n",
    "'''custom_lines = [Line2D([0], [0], color='tab:green', lw=4),\n",
    "                Line2D([0], [0], color='tab:red', lw=4),\n",
    "                Line2D([0], [0], color='tab:blue', lw=4)]\n",
    "plt.legend(custom_lines, ['Fluent', 'Dissonant\\nmeaning', 'Consonant\\nmeaning'], loc=(1.02,.76), fontsize=18)'''\n",
    "\n",
    "\n",
    "plt.suptitle('Categorial selection\\n', x=.52, y=.97, fontsize=22)\n",
    "fig2.tight_layout(pad=2)\n",
    "#plt.savefig('14mar/C_selecao_GRA_UNG.png', dpi=300, facecolor = 'white', bbox_inches='tight')"
   ]
  },
  {
   "cell_type": "markdown",
   "metadata": {},
   "source": [
    "## Tempos"
   ]
  },
  {
   "cell_type": "code",
   "execution_count": 42,
   "metadata": {},
   "outputs": [],
   "source": [
    "def tempo_rt(trecho,mark, savefig, ylim):\n",
    "    df = df_trans\n",
    "    yerr = []\n",
    "    conds = [*df.groupby('condicao').groups.keys()]\n",
    "    for name, group in df.groupby('condicao'):\n",
    "        yerr.append(sps.stats.sem(group[trecho+'.rt'].fillna(0)))\n",
    "    fig, ax = plt.subplots(figsize=(10,8))\n",
    "    plt.bar(df.groupby('condicao').groups.keys(), df.groupby('condicao')[trecho+'.rt'].mean().values, \\\n",
    "            color = ['tab:red', 'tab:red', 'tab:green', 'tab:green', 'tab:blue', 'tab:blue'], \\\n",
    "           yerr = yerr, align='center', capsize=6)\n",
    "    \n",
    "    plt.title('Trecho '+trecho)\n",
    "    plt.xticks(np.arange(6), labels=['CE', 'EC', 'C', 'E', 'CE', 'EC'])\n",
    "    plt.ylabel('s')\n",
    "    if (ylim==0):\n",
    "        plt.ylim(0,1.2)\n",
    "    else:\n",
    "        plt.ylim(0,ylim)\n",
    "    custom_lines = [Line2D([0], [0], color='tab:green', lw=4),\n",
    "                    Line2D([0], [0], color='tab:red', lw=4),\n",
    "                    Line2D([0], [0], color='tab:blue', lw=4)]\n",
    "    for  i in range(len(mark)):\n",
    "        a1 = df.groupby('condicao').get_group(conds[mark[i][0]])[trecho+'.rt'].dropna(0)\n",
    "        a2 = df.groupby('condicao').get_group(conds[mark[i][1]])[trecho+'.rt'].dropna(0)\n",
    "        barplot_annotate_brackets(mark[i][0], mark[i][1], stats.ttest_ind(a1, a2)[1], np.arange(len(conds)), df.groupby('condicao')[trecho+'.rt'].mean().values+.07)\n",
    "        print(stats.ttest_ind(a1, a2)[1])\n",
    "    plt.legend(custom_lines, ['Sem disfluência', 'Verbos de significado\\ndestoante', 'Verbos de significado\\nconsoante'], loc=(1.02,.84))\n",
    "    if (savefig):\n",
    "        plt.savefig('Tempos/'+trecho+'.png', bbox_inches='tight')"
   ]
  },
  {
   "cell_type": "code",
   "execution_count": 262,
   "metadata": {},
   "outputs": [],
   "source": [
    "conds = [*df.groupby('condicao').groups.keys()]"
   ]
  },
  {
   "cell_type": "code",
   "execution_count": 263,
   "metadata": {},
   "outputs": [],
   "source": [
    "mark = [[0,1]]\n"
   ]
  },
  {
   "cell_type": "code",
   "execution_count": 264,
   "metadata": {},
   "outputs": [],
   "source": [
    "a1 = df[df.condicao=='S_CE']['A.rt'].dropna()\n",
    "a2 = df[df.condicao=='S_EC']['A.rt'].dropna()"
   ]
  },
  {
   "cell_type": "code",
   "execution_count": 116,
   "metadata": {},
   "outputs": [
    {
     "data": {
      "text/plain": [
       "0.42"
      ]
     },
     "execution_count": 116,
     "metadata": {},
     "output_type": "execute_result"
    }
   ],
   "source": [
    "a = [group['A.rt'].fillna(0).values.tolist() for name, group in df.groupby('condicao')]\n",
    "np.round(stats.f_oneway(a[0], a[1], a[2], a[3], a[4], a[5])[0], 2)"
   ]
  },
  {
   "cell_type": "code",
   "execution_count": 43,
   "metadata": {
    "scrolled": false
   },
   "outputs": [
    {
     "name": "stdout",
     "output_type": "stream",
     "text": [
      "0.2175544377408971\n",
      "0.3237186171527787\n",
      "0.3717732803144712\n"
     ]
    },
    {
     "data": {
      "image/png": "[encoded data removed]",
      "text/plain": [
       "<Figure size 720x576 with 1 Axes>"
      ]
     },
     "metadata": {
      "needs_background": "light"
     },
     "output_type": "display_data"
    }
   ],
   "source": [
    "tempo_rt('A',[[0,1],[2, 3], [4,5]], False, 5)"
   ]
  },
  {
   "cell_type": "code",
   "execution_count": 44,
   "metadata": {},
   "outputs": [
    {
     "data": {
      "text/plain": [
       "0.222"
      ]
     },
     "execution_count": 44,
     "metadata": {},
     "output_type": "execute_result"
    }
   ],
   "source": [
    "a1 = df[df.condicao=='S_CE']['B.rt'].dropna(0)\n",
    "a2 = df[df.condicao=='S_EC']['B.rt'].dropna(0)\n",
    "stats.ttest_ind(a1, a2)[1].round(3)"
   ]
  },
  {
   "cell_type": "code",
   "execution_count": 45,
   "metadata": {},
   "outputs": [
    {
     "name": "stdout",
     "output_type": "stream",
     "text": [
      "0.6003955320279748\n",
      "0.2832406950707618\n",
      "0.14909197192780094\n"
     ]
    },
    {
     "data": {
      "image/png": "[encoded data removed]",
      "text/plain": [
       "<Figure size 720x576 with 1 Axes>"
      ]
     },
     "metadata": {
      "needs_background": "light"
     },
     "output_type": "display_data"
    }
   ],
   "source": [
    "tempo_rt('B', [[0,1],[2,3], [4,5]], False, 1.4)"
   ]
  },
  {
   "cell_type": "code",
   "execution_count": 46,
   "metadata": {},
   "outputs": [],
   "source": [
    "a1 = df[df.condicao=='S_CE']['C.rt'].dropna(0)\n",
    "a2 = df[df.condicao=='S_EC']['C.rt'].dropna(0)"
   ]
  },
  {
   "cell_type": "code",
   "execution_count": 47,
   "metadata": {},
   "outputs": [
    {
     "data": {
      "text/plain": [
       "0.025"
      ]
     },
     "execution_count": 47,
     "metadata": {},
     "output_type": "execute_result"
    }
   ],
   "source": [
    "np.round(stats.ttest_ind(a1, a2)[1], 3)"
   ]
  },
  {
   "cell_type": "code",
   "execution_count": 49,
   "metadata": {},
   "outputs": [
    {
     "name": "stdout",
     "output_type": "stream",
     "text": [
      "0.08622291226036524\n",
      "0.10309188280513802\n",
      "0.07225891351257337\n"
     ]
    },
    {
     "data": {
      "image/png": "[encoded data removed]",
      "text/plain": [
       "<Figure size 720x576 with 1 Axes>"
      ]
     },
     "metadata": {
      "needs_background": "light"
     },
     "output_type": "display_data"
    }
   ],
   "source": [
    "tempo_rt('C',[[0,4],[2,3],[4, 5]], False, 1.4)"
   ]
  },
  {
   "cell_type": "code",
   "execution_count": 50,
   "metadata": {},
   "outputs": [
    {
     "name": "stdout",
     "output_type": "stream",
     "text": [
      "0.29430960839848647\n",
      "0.4098159044156151\n",
      "0.32930169493714934\n"
     ]
    },
    {
     "data": {
      "image/png": "[encoded data removed]",
      "text/plain": [
       "<Figure size 720x576 with 1 Axes>"
      ]
     },
     "metadata": {
      "needs_background": "light"
     },
     "output_type": "display_data"
    }
   ],
   "source": [
    "tempo_rt('quest',[[0,1], [2,3], [4,5]], False, 4)"
   ]
  },
  {
   "cell_type": "code",
   "execution_count": 73,
   "metadata": {},
   "outputs": [],
   "source": [
    "yerr = []\n",
    "for name, group in df.groupby('condicao'):\n",
    "    yerr.append(sps.stats.sem(group['A.rt'].fillna(0)))"
   ]
  },
  {
   "cell_type": "code",
   "execution_count": 74,
   "metadata": {},
   "outputs": [
    {
     "data": {
      "image/png": "[encoded data removed]",
      "text/plain": [
       "<Figure size 720x576 with 1 Axes>"
      ]
     },
     "metadata": {
      "needs_background": "light"
     },
     "output_type": "display_data"
    }
   ],
   "source": [
    "fig, ax = plt.subplots(figsize=(10,8))\n",
    "plt.bar(df.groupby('condicao').groups.keys(), df.groupby('condicao')['A.rt'].mean().values, \\\n",
    "        color = ['tab:red', 'tab:red', 'tab:green', 'tab:green', 'tab:blue', 'tab:blue'], \\\n",
    "       yerr = yerr, align='center', capsize=6)\n",
    "#ax.errorbar(df.groupby('condicao').groups.keys(), df.groupby('condicao')['A.rt'].mean().values, yerr=yerr, color='black')\n",
    "plt.title('Trecho A')\n",
    "plt.xticks(np.arange(6), labels=['CE', 'EC', 'C', 'E', 'CE', 'EC'])\n",
    "plt.ylabel('s')\n",
    "plt.ylim(0,1.2)\n",
    "custom_lines = [Line2D([0], [0], color='tab:green', lw=4),\n",
    "                Line2D([0], [0], color='tab:red', lw=4),\n",
    "                Line2D([0], [0], color='tab:blue', lw=4)]\n",
    "plt.legend(custom_lines, ['Sem disfluência', 'Verbos de significado\\ndestoante', 'Verbos de significado\\nconsoante'], loc=(1.02,.84))\n",
    "plt.savefig('Tempos/A.png', bbox_inches='tight')"
   ]
  },
  {
   "cell_type": "code",
   "execution_count": 75,
   "metadata": {},
   "outputs": [],
   "source": [
    "a = [group['A.rt'].fillna(0).values.tolist() for name, group in df.groupby('condicao')]"
   ]
  },
  {
   "cell_type": "code",
   "execution_count": 269,
   "metadata": {},
   "outputs": [
    {
     "data": {
      "text/plain": [
       "F_onewayResult(statistic=1.9393392681263741, pvalue=0.08512024671409663)"
      ]
     },
     "execution_count": 269,
     "metadata": {},
     "output_type": "execute_result"
    }
   ],
   "source": [
    "stats.f_oneway(a[0], a[1], a[2], a[3], a[4], a[5])"
   ]
  },
  {
   "cell_type": "code",
   "execution_count": 545,
   "metadata": {},
   "outputs": [
    {
     "data": {
      "text/plain": [
       "Text(0.5, 1.0, 'B')"
      ]
     },
     "execution_count": 545,
     "metadata": {},
     "output_type": "execute_result"
    },
    {
     "data": {
      "image/png": "[encoded data removed]",
      "text/plain": [
       "<Figure size 432x288 with 1 Axes>"
      ]
     },
     "metadata": {
      "needs_background": "light"
     },
     "output_type": "display_data"
    }
   ],
   "source": [
    "df.boxplot(column=['B.rt'],by='condicao')\n",
    "plt.title('B')"
   ]
  },
  {
   "cell_type": "code",
   "execution_count": 546,
   "metadata": {},
   "outputs": [
    {
     "data": {
      "text/plain": [
       "Text(0.5, 1.0, 'Online\\n\\nB')"
      ]
     },
     "execution_count": 546,
     "metadata": {},
     "output_type": "execute_result"
    },
    {
     "data": {
      "image/png": "[encoded data removed]",
      "text/plain": [
       "<Figure size 432x288 with 1 Axes>"
      ]
     },
     "metadata": {
      "needs_background": "light"
     },
     "output_type": "display_data"
    }
   ],
   "source": [
    "plt.bar(df.groupby('condicao').groups.keys(), df.groupby('condicao')['B.rt'].mean().values)\n",
    "plt.ylabel('s')\n",
    "plt.title('Online\\n\\nB')\n",
    "#plt.savefig('Rt.B.Online.png', bbox_inches='tight')"
   ]
  },
  {
   "cell_type": "code",
   "execution_count": null,
   "metadata": {},
   "outputs": [],
   "source": [
    "stats.ttest_ind(l_aec, l_c)[1]"
   ]
  },
  {
   "cell_type": "code",
   "execution_count": 548,
   "metadata": {},
   "outputs": [
    {
     "data": {
      "text/plain": [
       "<BarContainer object of 4 artists>"
      ]
     },
     "execution_count": 548,
     "metadata": {},
     "output_type": "execute_result"
    },
    {
     "data": {
      "image/png": "[encoded data removed]",
      "text/plain": [
       "<Figure size 432x288 with 1 Axes>"
      ]
     },
     "metadata": {
      "needs_background": "light"
     },
     "output_type": "display_data"
    }
   ],
   "source": [
    "df_y = df.copy()\n",
    "df_y.condicao = df_y.condicao.replace(['S_EC', 'S_CE', 'A_CE', 'A_EC'], ['S', 'S', 'A', 'A'])\n",
    "plt.bar(df_y.groupby('condicao').groups.keys(), df_y.groupby('condicao')['B.rt'].mean().values)\n",
    "#plt.savefig('Rt.B.Grouped_Online.png', bbox_inches='tight')"
   ]
  },
  {
   "cell_type": "code",
   "execution_count": 549,
   "metadata": {},
   "outputs": [
    {
     "data": {
      "text/plain": [
       "Text(0.5, 1.0, 'C')"
      ]
     },
     "execution_count": 549,
     "metadata": {},
     "output_type": "execute_result"
    },
    {
     "data": {
      "image/png": "[encoded data removed]",
      "text/plain": [
       "<Figure size 432x288 with 1 Axes>"
      ]
     },
     "metadata": {
      "needs_background": "light"
     },
     "output_type": "display_data"
    }
   ],
   "source": [
    "df.boxplot(column=['C.rt'],by='condicao')\n",
    "plt.title('C')"
   ]
  },
  {
   "cell_type": "code",
   "execution_count": 550,
   "metadata": {},
   "outputs": [
    {
     "data": {
      "text/plain": [
       "Text(0.5, 1.0, 'Online\\n\\nC')"
      ]
     },
     "execution_count": 550,
     "metadata": {},
     "output_type": "execute_result"
    },
    {
     "data": {
      "image/png": "[encoded data removed]",
      "text/plain": [
       "<Figure size 432x288 with 1 Axes>"
      ]
     },
     "metadata": {
      "needs_background": "light"
     },
     "output_type": "display_data"
    }
   ],
   "source": [
    "plt.bar(df.groupby('condicao').groups.keys(), df.groupby('condicao')['C.rt'].mean().values)\n",
    "plt.title('C')\n",
    "plt.ylabel('s')\n",
    "plt.title('Online\\n\\nC')\n",
    "#plt.savefig('Rt.C.Online.png', bbox_inches='tight')"
   ]
  },
  {
   "cell_type": "code",
   "execution_count": 551,
   "metadata": {},
   "outputs": [
    {
     "data": {
      "text/plain": [
       "<BarContainer object of 4 artists>"
      ]
     },
     "execution_count": 551,
     "metadata": {},
     "output_type": "execute_result"
    },
    {
     "data": {
      "image/png": "[encoded data removed]",
      "text/plain": [
       "<Figure size 432x288 with 1 Axes>"
      ]
     },
     "metadata": {
      "needs_background": "light"
     },
     "output_type": "display_data"
    }
   ],
   "source": [
    "plt.bar(df_y.groupby('condicao').groups.keys(), df_y.groupby('condicao')['C.rt'].mean().values)\n",
    "#plt.savefig('Rt.C.Grouped_Online.png', bbox_inches='tight')"
   ]
  },
  {
   "cell_type": "markdown",
   "metadata": {},
   "source": [
    "## Tempo - Resposta"
   ]
  },
  {
   "cell_type": "code",
   "execution_count": 487,
   "metadata": {},
   "outputs": [
    {
     "data": {
      "text/plain": [
       "Text(0.5, 0.98, '')"
      ]
     },
     "execution_count": 487,
     "metadata": {},
     "output_type": "execute_result"
    },
    {
     "data": {
      "image/png": "[encoded data removed]",
      "text/plain": [
       "<Figure size 432x288 with 1 Axes>"
      ]
     },
     "metadata": {
      "needs_background": "light"
     },
     "output_type": "display_data"
    }
   ],
   "source": [
    "df.boxplot(column=['quest.rt'],by='condicao')\n",
    "plt.title('Resposta - online')\n",
    "plt.suptitle('')\n",
    "#plt.savefig('Resposta_boxplot_casa.png', bbox_inches='tight')"
   ]
  },
  {
   "cell_type": "code",
   "execution_count": null,
   "metadata": {},
   "outputs": [],
   "source": []
  }
 ],
 "metadata": {
  "kernelspec": {
   "display_name": "Python 3",
   "language": "python",
   "name": "python3"
  },
  "language_info": {
   "codemirror_mode": {
    "name": "ipython",
    "version": 3
   },
   "file_extension": ".py",
   "mimetype": "text/x-python",
   "name": "python",
   "nbconvert_exporter": "python",
   "pygments_lexer": "ipython3",
   "version": "3.8.10"
  }
 },
 "nbformat": 4,
 "nbformat_minor": 4
}
